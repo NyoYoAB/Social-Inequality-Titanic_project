{
  "cells": [
    {
      "cell_type": "markdown",
      "metadata": {
        "id": "NKqpnG1PwmAa"
      },
      "source": [
        "**<font size=\"12\">HOUSING DATA PROJECT**</font>"
      ]
    },
    {
      "cell_type": "markdown",
      "metadata": {},
      "source": [
        "## <font size=\"5\">**Project Description** </font>"
      ]
    },
    {
      "cell_type": "markdown",
      "metadata": {},
      "source": [
        "<font size=\"3\">write your project description.</font>"
      ]
    },
    {
      "cell_type": "markdown",
      "metadata": {},
      "source": [
        "## <font size=\"5\">**Setting up the project** </font>"
      ]
    },
    {
      "cell_type": "code",
      "execution_count": 1,
      "metadata": {},
      "outputs": [],
      "source": [
        "# Import Liabraries:\n",
        "import numpy as np\n",
        "import pandas as pd\n",
        "import matplotlib.pyplot as plt\n",
        "import seaborn as sns\n",
        "\n",
        "# Set the style for all plots to a default Matplotlib style\n",
        "plt.style.use('default')\n",
        "\n",
        "# Import Data:\n",
        "house_df = pd.read_csv(\"raw_house_data.csv\")"
      ]
    },
    {
      "cell_type": "markdown",
      "metadata": {},
      "source": [
        "## <font size=\"5\">**Initial data inspection** </font>\n",
        "<font size=\"3\">In this part, we will do an initial data inspection to get a first idea about it.</font>"
      ]
    },
    {
      "cell_type": "code",
      "execution_count": 2,
      "metadata": {},
      "outputs": [
        {
          "name": "stdout",
          "output_type": "stream",
          "text": [
            "Dataset Information:\n",
            "<class 'pandas.core.frame.DataFrame'>\n",
            "RangeIndex: 5000 entries, 0 to 4999\n",
            "Data columns (total 16 columns):\n",
            " #   Column            Non-Null Count  Dtype  \n",
            "---  ------            --------------  -----  \n",
            " 0   MLS               5000 non-null   int64  \n",
            " 1   sold_price        5000 non-null   float64\n",
            " 2   zipcode           5000 non-null   int64  \n",
            " 3   longitude         5000 non-null   float64\n",
            " 4   latitude          5000 non-null   float64\n",
            " 5   lot_acres         4990 non-null   float64\n",
            " 6   taxes             5000 non-null   float64\n",
            " 7   year_built        5000 non-null   int64  \n",
            " 8   bedrooms          5000 non-null   int64  \n",
            " 9   bathrooms         4994 non-null   float64\n",
            " 10  sqrt_ft           4944 non-null   float64\n",
            " 11  garage            4993 non-null   float64\n",
            " 12  kitchen_features  4967 non-null   object \n",
            " 13  fireplaces        5000 non-null   object \n",
            " 14  floor_covering    4999 non-null   object \n",
            " 15  HOA               4438 non-null   object \n",
            "dtypes: float64(8), int64(4), object(4)\n",
            "memory usage: 625.1+ KB\n"
          ]
        }
      ],
      "source": [
        "# Display basic information about the dataset\n",
        "print(\"Dataset Information:\")\n",
        "house_df.info()"
      ]
    },
    {
      "cell_type": "code",
      "execution_count": 3,
      "metadata": {},
      "outputs": [
        {
          "name": "stdout",
          "output_type": "stream",
          "text": [
            "Summary Statistics:\n"
          ]
        },
        {
          "data": {
            "text/html": [
              "<div>\n",
              "<style scoped>\n",
              "    .dataframe tbody tr th:only-of-type {\n",
              "        vertical-align: middle;\n",
              "    }\n",
              "\n",
              "    .dataframe tbody tr th {\n",
              "        vertical-align: top;\n",
              "    }\n",
              "\n",
              "    .dataframe thead th {\n",
              "        text-align: right;\n",
              "    }\n",
              "</style>\n",
              "<table border=\"1\" class=\"dataframe\">\n",
              "  <thead>\n",
              "    <tr style=\"text-align: right;\">\n",
              "      <th></th>\n",
              "      <th>MLS</th>\n",
              "      <th>sold_price</th>\n",
              "      <th>zipcode</th>\n",
              "      <th>longitude</th>\n",
              "      <th>latitude</th>\n",
              "      <th>lot_acres</th>\n",
              "      <th>taxes</th>\n",
              "      <th>year_built</th>\n",
              "      <th>bedrooms</th>\n",
              "      <th>bathrooms</th>\n",
              "      <th>sqrt_ft</th>\n",
              "      <th>garage</th>\n",
              "    </tr>\n",
              "  </thead>\n",
              "  <tbody>\n",
              "    <tr>\n",
              "      <th>count</th>\n",
              "      <td>5.000000e+03</td>\n",
              "      <td>5.000000e+03</td>\n",
              "      <td>5000.000000</td>\n",
              "      <td>5000.000000</td>\n",
              "      <td>5000.000000</td>\n",
              "      <td>4990.000000</td>\n",
              "      <td>5.000000e+03</td>\n",
              "      <td>5000.00000</td>\n",
              "      <td>5000.000000</td>\n",
              "      <td>4994.000000</td>\n",
              "      <td>4944.000000</td>\n",
              "      <td>4993.000000</td>\n",
              "    </tr>\n",
              "    <tr>\n",
              "      <th>mean</th>\n",
              "      <td>2.127070e+07</td>\n",
              "      <td>7.746262e+05</td>\n",
              "      <td>85723.025600</td>\n",
              "      <td>-110.912107</td>\n",
              "      <td>32.308512</td>\n",
              "      <td>4.661317</td>\n",
              "      <td>9.402828e+03</td>\n",
              "      <td>1992.32800</td>\n",
              "      <td>3.933800</td>\n",
              "      <td>3.829896</td>\n",
              "      <td>3716.366828</td>\n",
              "      <td>2.816143</td>\n",
              "    </tr>\n",
              "    <tr>\n",
              "      <th>std</th>\n",
              "      <td>2.398508e+06</td>\n",
              "      <td>3.185556e+05</td>\n",
              "      <td>38.061712</td>\n",
              "      <td>0.120629</td>\n",
              "      <td>0.178028</td>\n",
              "      <td>51.685230</td>\n",
              "      <td>1.729385e+05</td>\n",
              "      <td>65.48614</td>\n",
              "      <td>1.245362</td>\n",
              "      <td>1.387063</td>\n",
              "      <td>1120.683515</td>\n",
              "      <td>1.192946</td>\n",
              "    </tr>\n",
              "    <tr>\n",
              "      <th>min</th>\n",
              "      <td>3.042851e+06</td>\n",
              "      <td>1.690000e+05</td>\n",
              "      <td>85118.000000</td>\n",
              "      <td>-112.520168</td>\n",
              "      <td>31.356362</td>\n",
              "      <td>0.000000</td>\n",
              "      <td>0.000000e+00</td>\n",
              "      <td>0.00000</td>\n",
              "      <td>1.000000</td>\n",
              "      <td>1.000000</td>\n",
              "      <td>1100.000000</td>\n",
              "      <td>0.000000</td>\n",
              "    </tr>\n",
              "    <tr>\n",
              "      <th>25%</th>\n",
              "      <td>2.140718e+07</td>\n",
              "      <td>5.850000e+05</td>\n",
              "      <td>85718.000000</td>\n",
              "      <td>-110.979260</td>\n",
              "      <td>32.277484</td>\n",
              "      <td>0.580000</td>\n",
              "      <td>4.803605e+03</td>\n",
              "      <td>1987.00000</td>\n",
              "      <td>3.000000</td>\n",
              "      <td>3.000000</td>\n",
              "      <td>3047.000000</td>\n",
              "      <td>2.000000</td>\n",
              "    </tr>\n",
              "    <tr>\n",
              "      <th>50%</th>\n",
              "      <td>2.161469e+07</td>\n",
              "      <td>6.750000e+05</td>\n",
              "      <td>85737.000000</td>\n",
              "      <td>-110.923420</td>\n",
              "      <td>32.318517</td>\n",
              "      <td>0.990000</td>\n",
              "      <td>6.223760e+03</td>\n",
              "      <td>1999.00000</td>\n",
              "      <td>4.000000</td>\n",
              "      <td>4.000000</td>\n",
              "      <td>3512.000000</td>\n",
              "      <td>3.000000</td>\n",
              "    </tr>\n",
              "    <tr>\n",
              "      <th>75%</th>\n",
              "      <td>2.180480e+07</td>\n",
              "      <td>8.350000e+05</td>\n",
              "      <td>85749.000000</td>\n",
              "      <td>-110.859078</td>\n",
              "      <td>32.394334</td>\n",
              "      <td>1.757500</td>\n",
              "      <td>8.082830e+03</td>\n",
              "      <td>2006.00000</td>\n",
              "      <td>4.000000</td>\n",
              "      <td>4.000000</td>\n",
              "      <td>4130.250000</td>\n",
              "      <td>3.000000</td>\n",
              "    </tr>\n",
              "    <tr>\n",
              "      <th>max</th>\n",
              "      <td>2.192856e+07</td>\n",
              "      <td>5.300000e+06</td>\n",
              "      <td>86323.000000</td>\n",
              "      <td>-109.454637</td>\n",
              "      <td>34.927884</td>\n",
              "      <td>2154.000000</td>\n",
              "      <td>1.221508e+07</td>\n",
              "      <td>2019.00000</td>\n",
              "      <td>36.000000</td>\n",
              "      <td>36.000000</td>\n",
              "      <td>22408.000000</td>\n",
              "      <td>30.000000</td>\n",
              "    </tr>\n",
              "  </tbody>\n",
              "</table>\n",
              "</div>"
            ],
            "text/plain": [
              "                MLS    sold_price       zipcode    longitude     latitude  \\\n",
              "count  5.000000e+03  5.000000e+03   5000.000000  5000.000000  5000.000000   \n",
              "mean   2.127070e+07  7.746262e+05  85723.025600  -110.912107    32.308512   \n",
              "std    2.398508e+06  3.185556e+05     38.061712     0.120629     0.178028   \n",
              "min    3.042851e+06  1.690000e+05  85118.000000  -112.520168    31.356362   \n",
              "25%    2.140718e+07  5.850000e+05  85718.000000  -110.979260    32.277484   \n",
              "50%    2.161469e+07  6.750000e+05  85737.000000  -110.923420    32.318517   \n",
              "75%    2.180480e+07  8.350000e+05  85749.000000  -110.859078    32.394334   \n",
              "max    2.192856e+07  5.300000e+06  86323.000000  -109.454637    34.927884   \n",
              "\n",
              "         lot_acres         taxes  year_built     bedrooms    bathrooms  \\\n",
              "count  4990.000000  5.000000e+03  5000.00000  5000.000000  4994.000000   \n",
              "mean      4.661317  9.402828e+03  1992.32800     3.933800     3.829896   \n",
              "std      51.685230  1.729385e+05    65.48614     1.245362     1.387063   \n",
              "min       0.000000  0.000000e+00     0.00000     1.000000     1.000000   \n",
              "25%       0.580000  4.803605e+03  1987.00000     3.000000     3.000000   \n",
              "50%       0.990000  6.223760e+03  1999.00000     4.000000     4.000000   \n",
              "75%       1.757500  8.082830e+03  2006.00000     4.000000     4.000000   \n",
              "max    2154.000000  1.221508e+07  2019.00000    36.000000    36.000000   \n",
              "\n",
              "            sqrt_ft       garage  \n",
              "count   4944.000000  4993.000000  \n",
              "mean    3716.366828     2.816143  \n",
              "std     1120.683515     1.192946  \n",
              "min     1100.000000     0.000000  \n",
              "25%     3047.000000     2.000000  \n",
              "50%     3512.000000     3.000000  \n",
              "75%     4130.250000     3.000000  \n",
              "max    22408.000000    30.000000  "
            ]
          },
          "execution_count": 3,
          "metadata": {},
          "output_type": "execute_result"
        }
      ],
      "source": [
        "# Display summary statistics of the numerical columns\n",
        "print(\"Summary Statistics:\")\n",
        "house_df.describe()"
      ]
    },
    {
      "cell_type": "code",
      "execution_count": 4,
      "metadata": {},
      "outputs": [
        {
          "name": "stdout",
          "output_type": "stream",
          "text": [
            "Missing Values:\n"
          ]
        },
        {
          "data": {
            "text/plain": [
              "MLS                   0\n",
              "sold_price            0\n",
              "zipcode               0\n",
              "longitude             0\n",
              "latitude              0\n",
              "lot_acres            10\n",
              "taxes                 0\n",
              "year_built            0\n",
              "bedrooms              0\n",
              "bathrooms             6\n",
              "sqrt_ft              56\n",
              "garage                7\n",
              "kitchen_features     33\n",
              "fireplaces            0\n",
              "floor_covering        1\n",
              "HOA                 562\n",
              "dtype: int64"
            ]
          },
          "execution_count": 4,
          "metadata": {},
          "output_type": "execute_result"
        }
      ],
      "source": [
        "# Check for missing values in each column\n",
        "print(\"Missing Values:\")\n",
        "house_df.isnull().sum()"
      ]
    },
    {
      "cell_type": "code",
      "execution_count": 5,
      "metadata": {},
      "outputs": [
        {
          "name": "stdout",
          "output_type": "stream",
          "text": [
            "First few rows:\n"
          ]
        },
        {
          "data": {
            "text/html": [
              "<div>\n",
              "<style scoped>\n",
              "    .dataframe tbody tr th:only-of-type {\n",
              "        vertical-align: middle;\n",
              "    }\n",
              "\n",
              "    .dataframe tbody tr th {\n",
              "        vertical-align: top;\n",
              "    }\n",
              "\n",
              "    .dataframe thead th {\n",
              "        text-align: right;\n",
              "    }\n",
              "</style>\n",
              "<table border=\"1\" class=\"dataframe\">\n",
              "  <thead>\n",
              "    <tr style=\"text-align: right;\">\n",
              "      <th></th>\n",
              "      <th>MLS</th>\n",
              "      <th>sold_price</th>\n",
              "      <th>zipcode</th>\n",
              "      <th>longitude</th>\n",
              "      <th>latitude</th>\n",
              "      <th>lot_acres</th>\n",
              "      <th>taxes</th>\n",
              "      <th>year_built</th>\n",
              "      <th>bedrooms</th>\n",
              "      <th>bathrooms</th>\n",
              "      <th>sqrt_ft</th>\n",
              "      <th>garage</th>\n",
              "      <th>kitchen_features</th>\n",
              "      <th>fireplaces</th>\n",
              "      <th>floor_covering</th>\n",
              "      <th>HOA</th>\n",
              "    </tr>\n",
              "  </thead>\n",
              "  <tbody>\n",
              "    <tr>\n",
              "      <th>0</th>\n",
              "      <td>21530491</td>\n",
              "      <td>5300000.0</td>\n",
              "      <td>85637</td>\n",
              "      <td>-110.378200</td>\n",
              "      <td>31.356362</td>\n",
              "      <td>2154.00</td>\n",
              "      <td>5272.00</td>\n",
              "      <td>1941</td>\n",
              "      <td>13</td>\n",
              "      <td>10.0</td>\n",
              "      <td>10500.0</td>\n",
              "      <td>0.0</td>\n",
              "      <td>Dishwasher, Freezer, Refrigerator, Oven</td>\n",
              "      <td>6</td>\n",
              "      <td>Mexican Tile, Wood</td>\n",
              "      <td>0</td>\n",
              "    </tr>\n",
              "    <tr>\n",
              "      <th>1</th>\n",
              "      <td>21529082</td>\n",
              "      <td>4200000.0</td>\n",
              "      <td>85646</td>\n",
              "      <td>-111.045371</td>\n",
              "      <td>31.594213</td>\n",
              "      <td>1707.00</td>\n",
              "      <td>10422.36</td>\n",
              "      <td>1997</td>\n",
              "      <td>2</td>\n",
              "      <td>2.0</td>\n",
              "      <td>7300.0</td>\n",
              "      <td>0.0</td>\n",
              "      <td>Dishwasher, Garbage Disposal</td>\n",
              "      <td>5</td>\n",
              "      <td>Natural Stone, Other</td>\n",
              "      <td>0</td>\n",
              "    </tr>\n",
              "    <tr>\n",
              "      <th>2</th>\n",
              "      <td>3054672</td>\n",
              "      <td>4200000.0</td>\n",
              "      <td>85646</td>\n",
              "      <td>-111.040707</td>\n",
              "      <td>31.594844</td>\n",
              "      <td>1707.00</td>\n",
              "      <td>10482.00</td>\n",
              "      <td>1997</td>\n",
              "      <td>2</td>\n",
              "      <td>3.0</td>\n",
              "      <td>NaN</td>\n",
              "      <td>NaN</td>\n",
              "      <td>Dishwasher, Garbage Disposal, Refrigerator</td>\n",
              "      <td>5</td>\n",
              "      <td>Natural Stone, Other: Rock</td>\n",
              "      <td>NaN</td>\n",
              "    </tr>\n",
              "    <tr>\n",
              "      <th>3</th>\n",
              "      <td>21919321</td>\n",
              "      <td>4500000.0</td>\n",
              "      <td>85646</td>\n",
              "      <td>-111.035925</td>\n",
              "      <td>31.645878</td>\n",
              "      <td>636.67</td>\n",
              "      <td>8418.58</td>\n",
              "      <td>1930</td>\n",
              "      <td>7</td>\n",
              "      <td>5.0</td>\n",
              "      <td>9019.0</td>\n",
              "      <td>4.0</td>\n",
              "      <td>Dishwasher, Double Sink, Pantry: Butler, Refri...</td>\n",
              "      <td>4</td>\n",
              "      <td>Ceramic Tile, Laminate, Wood</td>\n",
              "      <td>NaN</td>\n",
              "    </tr>\n",
              "    <tr>\n",
              "      <th>4</th>\n",
              "      <td>21306357</td>\n",
              "      <td>3411450.0</td>\n",
              "      <td>85750</td>\n",
              "      <td>-110.813768</td>\n",
              "      <td>32.285162</td>\n",
              "      <td>3.21</td>\n",
              "      <td>15393.00</td>\n",
              "      <td>1995</td>\n",
              "      <td>4</td>\n",
              "      <td>6.0</td>\n",
              "      <td>6396.0</td>\n",
              "      <td>3.0</td>\n",
              "      <td>Dishwasher, Garbage Disposal, Refrigerator, Mi...</td>\n",
              "      <td>5</td>\n",
              "      <td>Carpet, Concrete</td>\n",
              "      <td>55</td>\n",
              "    </tr>\n",
              "  </tbody>\n",
              "</table>\n",
              "</div>"
            ],
            "text/plain": [
              "        MLS  sold_price  zipcode   longitude   latitude  lot_acres     taxes  \\\n",
              "0  21530491   5300000.0    85637 -110.378200  31.356362    2154.00   5272.00   \n",
              "1  21529082   4200000.0    85646 -111.045371  31.594213    1707.00  10422.36   \n",
              "2   3054672   4200000.0    85646 -111.040707  31.594844    1707.00  10482.00   \n",
              "3  21919321   4500000.0    85646 -111.035925  31.645878     636.67   8418.58   \n",
              "4  21306357   3411450.0    85750 -110.813768  32.285162       3.21  15393.00   \n",
              "\n",
              "   year_built  bedrooms  bathrooms  sqrt_ft  garage  \\\n",
              "0        1941        13       10.0  10500.0     0.0   \n",
              "1        1997         2        2.0   7300.0     0.0   \n",
              "2        1997         2        3.0      NaN     NaN   \n",
              "3        1930         7        5.0   9019.0     4.0   \n",
              "4        1995         4        6.0   6396.0     3.0   \n",
              "\n",
              "                                    kitchen_features fireplaces  \\\n",
              "0            Dishwasher, Freezer, Refrigerator, Oven          6   \n",
              "1                       Dishwasher, Garbage Disposal          5   \n",
              "2         Dishwasher, Garbage Disposal, Refrigerator          5   \n",
              "3  Dishwasher, Double Sink, Pantry: Butler, Refri...          4   \n",
              "4  Dishwasher, Garbage Disposal, Refrigerator, Mi...          5   \n",
              "\n",
              "                 floor_covering  HOA  \n",
              "0            Mexican Tile, Wood    0  \n",
              "1          Natural Stone, Other    0  \n",
              "2    Natural Stone, Other: Rock  NaN  \n",
              "3  Ceramic Tile, Laminate, Wood  NaN  \n",
              "4              Carpet, Concrete   55  "
            ]
          },
          "execution_count": 5,
          "metadata": {},
          "output_type": "execute_result"
        }
      ],
      "source": [
        "# Display the first few rows of the dataset\n",
        "print(\"First few rows:\")\n",
        "house_df.head()"
      ]
    },
    {
      "cell_type": "code",
      "execution_count": 6,
      "metadata": {},
      "outputs": [
        {
          "name": "stdout",
          "output_type": "stream",
          "text": [
            "Unique Values per Column:\n"
          ]
        },
        {
          "data": {
            "text/plain": [
              "MLS                 5000\n",
              "sold_price          1092\n",
              "zipcode               56\n",
              "longitude           4762\n",
              "latitude            4821\n",
              "lot_acres            645\n",
              "taxes               4719\n",
              "year_built           112\n",
              "bedrooms              15\n",
              "bathrooms             19\n",
              "sqrt_ft             2361\n",
              "garage                21\n",
              "kitchen_features    1871\n",
              "fireplaces            11\n",
              "floor_covering       310\n",
              "HOA                  380\n",
              "dtype: int64"
            ]
          },
          "execution_count": 6,
          "metadata": {},
          "output_type": "execute_result"
        }
      ],
      "source": [
        "# Display the number of unique values\n",
        "print(\"Unique Values per Column:\")\n",
        "house_df.nunique()"
      ]
    },
    {
      "cell_type": "code",
      "execution_count": 7,
      "metadata": {},
      "outputs": [
        {
          "name": "stdout",
          "output_type": "stream",
          "text": [
            "\n",
            "Unique values in kitchen_features:\n",
            "kitchen_features\n",
            "Dishwasher, Garbage Disposal, Refrigerator, Microwave, Oven                                                                                                                     1719\n",
            "Dishwasher, Garbage Disposal, Microwave, Oven                                                                                                                                    270\n",
            "Compactor, Dishwasher, Garbage Disposal, Refrigerator, Microwave, Oven                                                                                                           189\n",
            "Dishwasher, Garbage Disposal, Refrigerator, Oven                                                                                                                                 181\n",
            "Dishwasher, Freezer, Garbage Disposal, Refrigerator, Microwave, Oven                                                                                                             127\n",
            "                                                                                                                                                                                ... \n",
            "Dishwasher, Double Sink, Garbage Disposal, Gas Range, Refrigerator, Oven: Gas Range/Oven                                                                                           1\n",
            "Dishwasher, Garbage Disposal, Gas Range, Island, Pantry: Closet, Refrigerator, Appliance Color: Stainless, Countertops: Caesarstone, Microwave: GE Profile, Oven: GE Profile       1\n",
            "Dishwasher, Gas Range, Countertops: Stained Concrete                                                                                                                               1\n",
            "Dishwasher, Garbage Disposal, Gas Range, Island, Lazy Susan, Pantry: Walk-In, Refrigerator, Appliance Color: Stainless, Countertops: granite, Microwave: yes, Oven: yes            1\n",
            "Dishwasher, Double Sink, Garbage Disposal, Gas Range, Island, Pantry: Cabinet, Refrigerator, Appliance Color: Stainless                                                            1\n",
            "Name: count, Length: 1871, dtype: int64\n",
            "Number of unique values: 1871\n",
            "\n",
            "Unique values in fireplaces:\n",
            "fireplaces\n",
            "1    1806\n",
            "2    1604\n",
            "3     849\n",
            "0     303\n",
            "4     294\n",
            "5      89\n",
            "       25\n",
            "6      18\n",
            "7       9\n",
            "9       2\n",
            "8       1\n",
            "Name: count, dtype: int64\n",
            "Number of unique values: 11\n",
            "\n",
            "Unique values in floor_covering:\n",
            "floor_covering\n",
            "Carpet, Ceramic Tile                               1235\n",
            "Carpet, Natural Stone                               579\n",
            "Carpet, Ceramic Tile, Wood                          258\n",
            "Ceramic Tile                                        247\n",
            "Concrete                                            242\n",
            "                                                   ... \n",
            "Carpet, Ceramic Tile, Other: Wood Laminate            1\n",
            "Concrete, Wood, Other: Tile bathrooms                 1\n",
            "Carpet, Ceramic Tile, Other: Wood Plan Laminate       1\n",
            "Carpet, Other: Marble                                 1\n",
            "Concrete, Other: Cork                                 1\n",
            "Name: count, Length: 310, dtype: int64\n",
            "Number of unique values: 310\n",
            "\n",
            "Unique values in HOA:\n",
            "HOA\n",
            "0         824\n",
            "5         123\n",
            "100       107\n",
            "50         85\n",
            "40         72\n",
            "         ... \n",
            "210         1\n",
            "112.38      1\n",
            "5.4         1\n",
            "36.66       1\n",
            "78.65       1\n",
            "Name: count, Length: 380, dtype: int64\n",
            "Number of unique values: 380\n"
          ]
        }
      ],
      "source": [
        "# Check the unique values in categorical columns\n",
        "categorical_columns = house_df.select_dtypes(include=['object']).columns\n",
        "for col in categorical_columns:\n",
        "    print(f\"\\nUnique values in {col}:\")\n",
        "    print(house_df[col].value_counts())\n",
        "    print(f\"Number of unique values: {house_df[col].nunique()}\")"
      ]
    },
    {
      "cell_type": "code",
      "execution_count": 8,
      "metadata": {},
      "outputs": [
        {
          "name": "stdout",
          "output_type": "stream",
          "text": [
            "Number of duplicate rows: 0\n"
          ]
        }
      ],
      "source": [
        "# Check for any duplicate rows\n",
        "duplicates = house_df.duplicated().sum()\n",
        "print(f\"Number of duplicate rows: {duplicates}\")"
      ]
    },
    {
      "cell_type": "code",
      "execution_count": 9,
      "metadata": {},
      "outputs": [
        {
          "name": "stdout",
          "output_type": "stream",
          "text": [
            "Basic statistics for 'sold_price':\n",
            "count    5.000000e+03\n",
            "mean     7.746262e+05\n",
            "std      3.185556e+05\n",
            "min      1.690000e+05\n",
            "25%      5.850000e+05\n",
            "50%      6.750000e+05\n",
            "75%      8.350000e+05\n",
            "max      5.300000e+06\n",
            "Name: sold_price, dtype: float64\n"
          ]
        }
      ],
      "source": [
        "# Display basic statistics for the 'sold_price' column\n",
        "print(\"Basic statistics for 'sold_price':\")\n",
        "print(house_df['sold_price'].describe())"
      ]
    },
    {
      "cell_type": "code",
      "execution_count": 10,
      "metadata": {},
      "outputs": [
        {
          "name": "stdout",
          "output_type": "stream",
          "text": [
            "Number of invalid (<=0) sold prices: 0\n"
          ]
        }
      ],
      "source": [
        "# Check for any negative or zero values in 'sold_price'\n",
        "invalid_prices = house_df[house_df['sold_price'] <= 0]\n",
        "print(f\"Number of invalid (<=0) sold prices: {len(invalid_prices)}\")"
      ]
    },
    {
      "cell_type": "code",
      "execution_count": 11,
      "metadata": {},
      "outputs": [
        {
          "name": "stdout",
          "output_type": "stream",
          "text": [
            "Minimum year: 0\n",
            "Maximum year: 2019\n"
          ]
        }
      ],
      "source": [
        "# Display the range of years in 'year_built'\n",
        "print(f\"Minimum year: {house_df['year_built'].min()}\")\n",
        "print(f\"Maximum year: {house_df['year_built'].max()}\")"
      ]
    },
    {
      "cell_type": "markdown",
      "metadata": {},
      "source": [
        "<font size=\"5\">**Renaming columns:** </font>"
      ]
    },
    {
      "cell_type": "markdown",
      "metadata": {},
      "source": [
        "<font size=\"3\">Here, I rename some columns for more consistency and readability </font>"
      ]
    },
    {
      "cell_type": "code",
      "execution_count": 12,
      "metadata": {},
      "outputs": [
        {
          "name": "stdout",
          "output_type": "stream",
          "text": [
            "Columns after modification: \n",
            " Index(['mls', 'price', 'zipcode', 'longitude', 'latitude', 'lot_acres',\n",
            "       'taxes', 'year_built', 'bedrooms', 'bathrooms', 'sqrt_ft', 'garage',\n",
            "       'kitchen_features', 'fireplaces', 'floor_covering', 'hoa'],\n",
            "      dtype='object')\n"
          ]
        }
      ],
      "source": [
        "newColumns = {'MLS': \"mls\",'sold_price': \"price\", \"HOA\": \"hoa\"}\n",
        "house_df.rename(columns=newColumns, inplace=True)\n",
        "\n",
        "print(f\"Columns after modification: \\n {house_df.columns}\")"
      ]
    },
    {
      "cell_type": "markdown",
      "metadata": {},
      "source": [
        "## <font size=\"5\">**Initial EDA using plots** </font>"
      ]
    },
    {
      "cell_type": "code",
      "execution_count": 13,
      "metadata": {},
      "outputs": [
        {
          "name": "stdout",
          "output_type": "stream",
          "text": [
            "heatMapOfMissingValues_before is saved!\n"
          ]
        },
        {
          "name": "stderr",
          "output_type": "stream",
          "text": [
            "C:\\Users\\Younes Abaroudi\\AppData\\Local\\Temp\\ipykernel_5904\\3270685383.py:56: FutureWarning: \n",
            "\n",
            "Passing `palette` without assigning `hue` is deprecated and will be removed in v0.14.0. Assign the `x` variable to `hue` and set `legend=False` for the same effect.\n",
            "\n",
            "  sns.violinplot(x='bedrooms', y='price', data=house_df, palette='muted')\n",
            "C:\\Users\\Younes Abaroudi\\AppData\\Local\\Temp\\ipykernel_5904\\3270685383.py:110: FutureWarning: \n",
            "\n",
            "Passing `palette` without assigning `hue` is deprecated and will be removed in v0.14.0. Assign the `x` variable to `hue` and set `legend=False` for the same effect.\n",
            "\n",
            "  sns.barplot(x='zipcode', y='price', data=zipcode_data, palette='viridis')\n"
          ]
        },
        {
          "name": "stdout",
          "output_type": "stream",
          "text": [
            "All visualizations have been created and saved.\n"
          ]
        }
      ],
      "source": [
        "# 2. Heatmap of Missing Values - BEFORE\n",
        "plt.figure(figsize=(14, 12))\n",
        "sns.heatmap(house_df.isnull(), cbar=False, cmap='viridis', yticklabels=False)\n",
        "plt.title('Heatmap of Missing Values - BEFORE', fontsize=12)\n",
        "plt.savefig('plots_before/2-heatMapOfMissingValues.png')\n",
        "plt.close()\n",
        "print(\"heatMapOfMissingValues_before is saved!\")\n",
        "\n",
        "# 3. Histogram of sold prices\n",
        "plt.figure(figsize=(10, 6))\n",
        "plt.hist(house_df['price'], bins=30, edgecolor='black')\n",
        "plt.title('Distribution of Sold Prices', fontsize=16)\n",
        "plt.xlabel('Sold Price ($)', fontsize=12)\n",
        "plt.ylabel('Frequency', fontsize=12)\n",
        "plt.savefig('plots_before/3-sold_price_distribution.png')\n",
        "plt.close()\n",
        "\n",
        "# 4. Correlation heatmap of key numerical features\n",
        "key_features = ['price', 'lot_acres', 'taxes', 'year_built', 'bedrooms', 'bathrooms', 'sqrt_ft']\n",
        "plt.figure(figsize=(12, 10))\n",
        "corr_matrix = house_df[key_features].corr()\n",
        "sns.heatmap(corr_matrix, annot=True, fmt=\".2f\", cmap='coolwarm', cbar=True)\n",
        "plt.title('Correlation Matrix of Key Features', fontsize=16)\n",
        "plt.savefig('plots_before/4-correlation_heatmap.png')\n",
        "plt.close()\n",
        "\n",
        "# 5. Box plots of key numerical features\n",
        "plt.figure(figsize=(14, 8))\n",
        "house_df[key_features].boxplot()\n",
        "plt.title('Box Plots of Key Numerical Features', fontsize=16)\n",
        "plt.xticks(rotation=45)\n",
        "plt.savefig('plots_before/5-boxplots_key_features.png')\n",
        "plt.close()\n",
        "\n",
        "# 6. Scatter plot of longitude vs latitude (geographical distribution)\n",
        "plt.figure(figsize=(12, 8))\n",
        "scatter = plt.scatter(house_df['longitude'], house_df['latitude'], c=house_df['price'], cmap='viridis', alpha=0.6)\n",
        "plt.colorbar(scatter, label='Sold Price ($)')\n",
        "plt.title('Geographical Distribution of Houses', fontsize=16)\n",
        "plt.xlabel('Longitude', fontsize=12)\n",
        "plt.ylabel('Latitude', fontsize=12)\n",
        "plt.savefig('plots_before/6-geographical_distribution.png')\n",
        "plt.close()\n",
        "\n",
        "# 7. Bar plot of average sold price by number of bedrooms\n",
        "avg_price_by_bedrooms = house_df.groupby('bedrooms')['price'].mean().sort_index()\n",
        "plt.figure(figsize=(12, 6))\n",
        "avg_price_by_bedrooms.plot(kind='bar')\n",
        "plt.title('Average Sold Price by Number of Bedrooms', fontsize=16)\n",
        "plt.xlabel('Number of Bedrooms', fontsize=12)\n",
        "plt.ylabel('Average Sold Price ($)', fontsize=12)\n",
        "plt.savefig('plots_before/7-avg_price_by_bedrooms_1_barPlot.png')\n",
        "plt.close()\n",
        "\n",
        "# 7. Violin plot of average sold price by number of bedrooms\n",
        "sns.violinplot(x='bedrooms', y='price', data=house_df, palette='muted')\n",
        "plt.title('Price Distribution by Number of Bedrooms')\n",
        "plt.xlabel('Number of Bedrooms')\n",
        "plt.ylabel('Sold Price')\n",
        "plt.savefig('plots_before/7-avg_price_by_bedrooms_2_violinPlot.png')\n",
        "plt.close()\n",
        "\n",
        "# 8. Top 10 kitchen features\n",
        "top_kitchen_features = house_df['kitchen_features'].value_counts().nlargest(10)\n",
        "plt.figure(figsize=(12, 6))\n",
        "top_kitchen_features.plot(kind='bar')\n",
        "plt.title('Top 10 Kitchen Features', fontsize=16)\n",
        "plt.xlabel('Kitchen Features', fontsize=12)\n",
        "plt.ylabel('Count', fontsize=12)\n",
        "plt.xticks(rotation=45, ha='right')\n",
        "plt.tight_layout()\n",
        "plt.savefig('plots_before/8-top_kitchen_features.png')\n",
        "plt.close()\n",
        "\n",
        "# 9. Scatter plot of year built vs sold price\n",
        "plt.figure(figsize=(10, 6))\n",
        "plt.scatter(house_df['year_built'], house_df['price'], alpha=0.5)\n",
        "plt.title('Year Built vs Sold Price', fontsize=16)\n",
        "plt.xlabel('Year Built', fontsize=12)\n",
        "plt.ylabel('Sold Price ($)', fontsize=12)\n",
        "plt.savefig('plots_before/9-year_built_vs_sold_price.png')\n",
        "plt.close()\n",
        "\n",
        "# 10. Histogram plots of numerical features:\n",
        "numeric_df = house_df.select_dtypes(include=['float64', 'int64'])\n",
        "numeric_df.hist(bins=30, figsize=(14, 10), color='yellow', edgecolor='red')\n",
        "plt.suptitle('Histograms of Numerical Features', fontsize=22)\n",
        "plt.savefig('plots_before/10-histogram_numerical_features.png')\n",
        "plt.close()\n",
        "\n",
        "# 11. Reg plot of Sold Price vs. Square Footage:\n",
        "plt.figure(figsize=(12, 8))\n",
        "sns.regplot(x='sqrt_ft', y='price', data=house_df, scatter_kws={'alpha':0.5}, line_kws={'color':'red'})\n",
        "plt.title('Sold Price vs. Square Footage')\n",
        "plt.xlabel('Square Footage')\n",
        "plt.ylabel('Sold Price')\n",
        "plt.savefig('plots_before/11-soldPrice_vs_squareFootage.png')\n",
        "plt.close()\n",
        "\n",
        "# 12. Visualizing the average sold price by zipcode\n",
        "# Aggregating data by zip code\n",
        "zipcode_data = house_df.groupby('zipcode').agg({\n",
        "    'price': 'mean',\n",
        "    'mls': 'count',  # Assuming MLS is a unique identifier for properties\n",
        "    'lot_acres': 'mean',\n",
        "    'bedrooms': 'mean'\n",
        "}).reset_index()\n",
        "\n",
        "plt.figure(figsize=(12, 8))\n",
        "sns.barplot(x='zipcode', y='price', data=zipcode_data, palette='viridis')\n",
        "plt.title('Average Sold Price by Zipcode')\n",
        "plt.xlabel('Zipcode')\n",
        "plt.ylabel('Average Sold Price')\n",
        "plt.xticks(rotation=45)\n",
        "plt.savefig('plots_before/12-averageSoldPrice_by_zipCode.png')\n",
        "plt.close()\n",
        "\n",
        "# 13. Pair plot of Key Features\n",
        "\n",
        "sns.pairplot(house_df, diag_kind='kde', plot_kws={'alpha':0.5}, markers='+',\n",
        "             vars=['price', 'lot_acres', 'taxes', 'bedrooms', 'sqrt_ft', 'garage'])\n",
        "\n",
        "plt.suptitle('Pairplot of Key Features', y=1.02)\n",
        "plt.savefig('plots_before/13-pairPlot_keyFeatures.png')\n",
        "plt.close()\n",
        "plt.show()\n",
        "\n",
        "\n",
        "print(\"All visualizations have been created and saved.\")"
      ]
    },
    {
      "cell_type": "markdown",
      "metadata": {},
      "source": [
        "### <font size=\"5\">**Summary of Data Loading and Initial Exploration**</font>"
      ]
    },
    {
      "cell_type": "markdown",
      "metadata": {},
      "source": [
        "<font size=\"5\">Dataset Overview</font>\n",
        "- Total entries: 5,000\n",
        "- Columns: 16 (8 float64, 4 int64, 4 object)\n",
        "- Memory usage: 625.1+ KB\n",
        "\n",
        "<font size=\"5\">Column Details</font>\n",
        "1. MLS (int64): Unique identifier for each property\n",
        "2. sold_price (float64): Sale price of the property\n",
        "3. zipcode (int64): Postal code of the property\n",
        "4. longitude (float64): Geographical longitude\n",
        "5. latitude (float64): Geographical latitude\n",
        "6. lot_acres (float64): Size of the lot in acres\n",
        "7. taxes (float64): Property taxes\n",
        "8. year_built (int64): Year the property was constructed\n",
        "9. bedrooms (int64): Number of bedrooms\n",
        "10. bathrooms (float64): Number of bathrooms\n",
        "11. sqrt_ft (float64): Square footage of the property\n",
        "12. garage (float64): Garage capacity (likely in number of cars)\n",
        "13. kitchen_features (object): Features of the kitchen\n",
        "14. fireplaces (object): Number or description of fireplaces\n",
        "15. floor_covering (object): Types of floor coverings\n",
        "16. HOA (object): Homeowners Association fees\n",
        "\n",
        "<font size=\"5\">Missing Values</font>\n",
        "- HOA: 562 missing entries\n",
        "- sqrt_ft: 56 missing entries\n",
        "- kitchen_features: 33 missing entries\n",
        "- lot_acres: 10 missing entries\n",
        "- garage: 7 missing entries\n",
        "- bathrooms: 6 missing entries\n",
        "- floor_covering: 1 missing entry\n",
        "\n",
        "<font size=\"5\">Key Statistics</font>\n",
        "- Sold Price:\n",
        "  - Mean: $774,626\n",
        "  - Median: $675,000\n",
        "  - Min: $169,000\n",
        "  - Max: $5,300,000\n",
        "- Lot Size:\n",
        "  - Mean: 4.66 acres\n",
        "  - Median: 0.99 acres\n",
        "  - Max: 2,154 acres\n",
        "- Year Built:\n",
        "  - Range: 0 to 2019 (0 likely an error)\n",
        "  - Mean: 1992\n",
        "- Bedrooms:\n",
        "  - Mean: 3.93\n",
        "  - Max: 36 (potentially an error)\n",
        "- Bathrooms:\n",
        "  - Mean: 3.83\n",
        "  - Max: 36 (potentially an error)\n",
        "\n",
        "<font size=\"5\">Categorical Variables</font>\n",
        "- kitchen_features: 1,871 unique combinations\n",
        "- fireplaces: 11 unique values (0 to 9, with one blank entry)\n",
        "- floor_covering: 310 unique combinations\n",
        "- HOA: 380 unique values\n",
        "\n",
        "<font size=\"5\">Data Quality Issues</font>\n",
        "1. Missing values in several columns\n",
        "2. Potential errors in 'year_built' (minimum value of 0)\n",
        "3. Unusually high maximum values for bedrooms and bathrooms (36 each)\n",
        "4. High variability in categorical variables, especially kitchen_features\n",
        "\n",
        "<font size=\"5\">Next Steps</font>\n",
        "1. Address missing values through imputation or removal\n",
        "2. Investigate and correct potential errors in 'year_built', 'bedrooms', and 'bathrooms'\n",
        "3. Consider encoding or simplifying highly variable categorical features\n",
        "4. Explore relationships between variables, particularly with 'sold_price'\n",
        "5. Investigate outliers, especially in lot size and sold price"
      ]
    },
    {
      "cell_type": "markdown",
      "metadata": {},
      "source": [
        "<font size=\"5\">**Handling missing Values** </font>"
      ]
    },
    {
      "cell_type": "markdown",
      "metadata": {},
      "source": [
        "# <font size=\"3\">**Dropping Columns with more than 90% missing values** </font>"
      ]
    },
    {
      "cell_type": "code",
      "execution_count": 14,
      "metadata": {},
      "outputs": [],
      "source": [
        "threshold = len(house_df) * 0.1\n",
        "house_df = house_df.dropna(thresh=threshold, axis=1)"
      ]
    },
    {
      "cell_type": "markdown",
      "metadata": {},
      "source": [
        "<font size=\"3\">We don't have any deletions since the missing values are fewer, we can completely drop them but I would prefer use the median and mode() to impute the missing values so we can have more data for trainning the model. Consider dropping them completely if we get inaccurate result after implementing the model.</font>"
      ]
    },
    {
      "cell_type": "markdown",
      "metadata": {},
      "source": [
        "<font size=\"3\">**Handling missing Values in numerical and categorical columns** </font>\n"
      ]
    },
    {
      "cell_type": "code",
      "execution_count": 15,
      "metadata": {},
      "outputs": [
        {
          "name": "stdout",
          "output_type": "stream",
          "text": [
            "Post-Check for missing values:\n"
          ]
        },
        {
          "data": {
            "text/plain": [
              "mls                 0\n",
              "price               0\n",
              "zipcode             0\n",
              "longitude           0\n",
              "latitude            0\n",
              "lot_acres           0\n",
              "taxes               0\n",
              "year_built          0\n",
              "bedrooms            0\n",
              "bathrooms           0\n",
              "sqrt_ft             0\n",
              "garage              0\n",
              "kitchen_features    0\n",
              "fireplaces          0\n",
              "floor_covering      0\n",
              "hoa                 0\n",
              "dtype: int64"
            ]
          },
          "execution_count": 15,
          "metadata": {},
          "output_type": "execute_result"
        }
      ],
      "source": [
        "# 1. Handle missing values\n",
        "def impute_missing_values(df):\n",
        "    # Impute numerical columns with median\n",
        "    numeric_columns = df.select_dtypes(include=['float64', 'int64']).columns\n",
        "    for col in numeric_columns:\n",
        "        df[col] = df[col].fillna(df[col].median())\n",
        "    \n",
        "    # Impute categorical columns with mode\n",
        "    categorical_columns = df.select_dtypes(include=['object']).columns\n",
        "    for col in categorical_columns:\n",
        "        df[col] = df[col].fillna(df[col].mode()[0])\n",
        "    \n",
        "    return df\n",
        "\n",
        "house_df = impute_missing_values(house_df)\n",
        "\n",
        "print(\"Post-Check for missing values:\")\n",
        "house_df.isnull().sum()"
      ]
    },
    {
      "cell_type": "markdown",
      "metadata": {},
      "source": [
        "<font size=\"5\">**Correct data quality issues** </font> <br><br>\n",
        "<font size=\"3\"> Handling data quality issues and outliers </font>"
      ]
    },
    {
      "cell_type": "code",
      "execution_count": 16,
      "metadata": {},
      "outputs": [],
      "source": [
        "# 2. Correct data quality issues\n",
        "house_df.loc[house_df['year_built'] == 0, 'year_built'] = house_df['year_built'].median()\n",
        "house_df['bedrooms'] = house_df['bedrooms'].clip(upper=10)\n",
        "house_df['bathrooms'] = house_df['bathrooms'].clip(upper=10)\n",
        "\n",
        "# 4. Normalize numerical features\n",
        "numerical_columns = house_df.select_dtypes(include=['float64', 'int64']).columns\n",
        "house_df[numerical_columns] = (house_df[numerical_columns] - house_df[numerical_columns].mean()) / house_df[numerical_columns].std()"
      ]
    },
    {
      "cell_type": "markdown",
      "metadata": {},
      "source": [
        "<font size=\"5\">**Initial feature engineering** </font> <br> <br>\n",
        "<font size=\"3\"> Creating 3 new features:\n",
        "- num_kit_features\n",
        "- bedroom_bathroom_ratio\n",
        "- price_per_sqft \"   </font>"
      ]
    },
    {
      "cell_type": "code",
      "execution_count": 17,
      "metadata": {},
      "outputs": [],
      "source": [
        "# Create Number of kitchen feature:\n",
        "house_df[\"num_kit_features\"] = house_df[\"kitchen_features\"].str.split(\",\").apply(len)\n",
        "house_df[\"num_kit_features\"]\n",
        "\n",
        "# Create bedroom_bathroom_ratio feature:\n",
        "house_df['bedroom_bathroom_ratio'] = house_df['bedrooms'] / house_df['bathrooms']\n",
        "\n",
        "# Create price_per_sqft feature:\n",
        "house_df['price_per_sqft'] = house_df['price'] / house_df['sqrt_ft']"
      ]
    },
    {
      "cell_type": "markdown",
      "metadata": {},
      "source": [
        "# <font size=\"5\">**Handling Outliers** </font>\n",
        "*Chosen solution-01:* IQR Method for \"price\" feature <br> <br>\n",
        "<font size=\"2\">*Justifying the solution:*\n",
        "* We have a right-skewed distribution: The distribution is not symmetric and is skewed to the right, it indicates that the data is not normally distributed. So we will use IQR method to handle the outliers instead of the zscore method</font>\n",
        "\n",
        "*Chosen solution-02:* Zscore Method for the following features('lot_acres', 'taxes', 'sqrt_ft')\" <br> <br>\n",
        "<font size=\"2\">*Justifying the solution:*\n",
        "* write why ?? </font>"
      ]
    },
    {
      "cell_type": "code",
      "execution_count": 18,
      "metadata": {},
      "outputs": [],
      "source": [
        "# Defining method for detecting outliners using IQR method\n",
        "def remove_outliers_iqr(df, columns):\n",
        "    for col in columns:\n",
        "        Q1 = df[col].quantile(0.25)\n",
        "        Q3 = df[col].quantile(0.75)\n",
        "        IQR = Q3 - Q1\n",
        "        lower_bound = Q1 - 1.5 * IQR\n",
        "        upper_bound = Q3 + 1.5 * IQR\n",
        "\n",
        "        df = df[(df[col] >= lower_bound) & (df[col] <= upper_bound)]\n",
        "    return df\n",
        "\n",
        "# Defining method for detecting outliners using Zscore method\n",
        "def remove_outliers_zscore(df, columns, n_std=3):\n",
        "    for col in columns:\n",
        "        mean = df[col].mean()\n",
        "        std = df[col].std()\n",
        "        df = df[(df[col] >= mean - n_std * std) & (df[col] <= mean + n_std * std)]\n",
        "    return df\n",
        "\n",
        "\n",
        "# Applying methods to remove outliers\n",
        "outlier_columns_iqr = [\"price\"]\n",
        "house_df = remove_outliers_iqr(house_df, outlier_columns_iqr)\n",
        "\n",
        "outlier_columns_zscore = ['lot_acres', 'taxes', 'sqrt_ft']\n",
        "house_df = remove_outliers_zscore(house_df, outlier_columns_zscore)\n"
      ]
    },
    {
      "cell_type": "markdown",
      "metadata": {},
      "source": [
        "<font size=\"5\">**Data type consistency** </font> <br> <br>\n",
        "<font size=\"3\"> The purpose of this phase to make the data types consistent\"   </font>"
      ]
    },
    {
      "cell_type": "code",
      "execution_count": 19,
      "metadata": {},
      "outputs": [
        {
          "name": "stdout",
          "output_type": "stream",
          "text": [
            "Data types post-rectification:\n"
          ]
        },
        {
          "data": {
            "text/plain": [
              "mls                       float64\n",
              "price                     float64\n",
              "zipcode                   float64\n",
              "longitude                 float64\n",
              "latitude                  float64\n",
              "lot_acres                 float64\n",
              "taxes                     float64\n",
              "year_built                float64\n",
              "bedrooms                  float64\n",
              "bathrooms                   int64\n",
              "sqrt_ft                   float64\n",
              "garage                      int64\n",
              "kitchen_features           object\n",
              "fireplaces                  int64\n",
              "floor_covering             object\n",
              "hoa                         int64\n",
              "num_kit_features            int64\n",
              "bedroom_bathroom_ratio    float64\n",
              "price_per_sqft            float64\n",
              "dtype: object"
            ]
          },
          "execution_count": 19,
          "metadata": {},
          "output_type": "execute_result"
        }
      ],
      "source": [
        "# Convert from object type to float64\n",
        "house_df['fireplaces'] = pd.to_numeric(house_df['fireplaces'], errors=\"coerce\").fillna(0).astype(int)\n",
        "house_df['hoa'] = pd.to_numeric(house_df['hoa'], errors=\"coerce\").fillna(0).astype(int)\n",
        "\n",
        "# Convert from float to int\n",
        "house_df[\"bathrooms\"] = house_df[\"bathrooms\"].astype(int)\n",
        "house_df[\"garage\"] = house_df[\"garage\"].astype(int)\n",
        "\n",
        "print(\"Data types post-rectification:\")\n",
        "house_df.dtypes"
      ]
    },
    {
      "cell_type": "markdown",
      "metadata": {},
      "source": [
        "**Post check dataset after clean up**"
      ]
    },
    {
      "cell_type": "code",
      "execution_count": 20,
      "metadata": {},
      "outputs": [
        {
          "name": "stdout",
          "output_type": "stream",
          "text": [
            "Cleaned dataset shape:{house_df.shape}\n",
            "\n",
            "Cleaned Dataset Information:\n",
            "<class 'pandas.core.frame.DataFrame'>\n",
            "Index: 4528 entries, 217 to 4999\n",
            "Data columns (total 19 columns):\n",
            " #   Column                  Non-Null Count  Dtype  \n",
            "---  ------                  --------------  -----  \n",
            " 0   mls                     4528 non-null   float64\n",
            " 1   price                   4528 non-null   float64\n",
            " 2   zipcode                 4528 non-null   float64\n",
            " 3   longitude               4528 non-null   float64\n",
            " 4   latitude                4528 non-null   float64\n",
            " 5   lot_acres               4528 non-null   float64\n",
            " 6   taxes                   4528 non-null   float64\n",
            " 7   year_built              4528 non-null   float64\n",
            " 8   bedrooms                4528 non-null   float64\n",
            " 9   bathrooms               4528 non-null   int64  \n",
            " 10  sqrt_ft                 4528 non-null   float64\n",
            " 11  garage                  4528 non-null   int64  \n",
            " 12  kitchen_features        4528 non-null   object \n",
            " 13  fireplaces              4528 non-null   int64  \n",
            " 14  floor_covering          4528 non-null   object \n",
            " 15  hoa                     4528 non-null   int64  \n",
            " 16  num_kit_features        4528 non-null   int64  \n",
            " 17  bedroom_bathroom_ratio  4528 non-null   float64\n",
            " 18  price_per_sqft          4528 non-null   float64\n",
            "dtypes: float64(12), int64(5), object(2)\n",
            "memory usage: 707.5+ KB\n",
            "None\n",
            "\n",
            "Summary Statistics of Cleaned Dataset:\n",
            "               mls        price      zipcode    longitude     latitude  \\\n",
            "count  4528.000000  4528.000000  4528.000000  4528.000000  4528.000000   \n",
            "mean      0.005884    -0.230958     0.038418    -0.005201     0.016483   \n",
            "std       0.986549     0.483929     0.977656     0.925299     0.939020   \n",
            "min      -7.599662    -1.489932   -15.895912   -13.330595    -5.319094   \n",
            "25%       0.057480    -0.610965    -0.132038    -0.553602    -0.174760   \n",
            "50%       0.144519    -0.366109     0.367151    -0.092862     0.051739   \n",
            "75%       0.223059     0.016869     0.708702     0.438420     0.478694   \n",
            "max       0.274281     1.335320    15.763201     8.708406    14.713222   \n",
            "\n",
            "         lot_acres        taxes   year_built     bedrooms    bathrooms  \\\n",
            "count  4528.000000  4528.000000  4528.000000  4528.000000  4528.000000   \n",
            "mean     -0.053383    -0.017845    -0.013225    -0.046382     0.143993   \n",
            "std       0.079958     0.015291     0.973738     0.910672     0.560089   \n",
            "min      -0.090134    -0.054371    -5.715326    -3.138033    -2.000000   \n",
            "25%      -0.079289    -0.026974    -0.413278    -0.983678     0.000000   \n",
            "50%      -0.071735    -0.019345     0.263579     0.093499     0.000000   \n",
            "75%      -0.059147    -0.010274     0.602008     0.093499     0.000000   \n",
            "max       0.878224     0.090845     1.391675     6.556562     5.000000   \n",
            "\n",
            "           sqrt_ft       garage   fireplaces          hoa  num_kit_features  \\\n",
            "count  4528.000000  4528.000000  4528.000000  4528.000000       4528.000000   \n",
            "mean     -0.157110     0.012809     1.767447    66.690592          6.556537   \n",
            "std       0.694023     0.763257     1.048221    79.456386          2.987919   \n",
            "min      -2.345314    -2.000000     0.000000     0.000000          1.000000   \n",
            "25%      -0.626530     0.000000     1.000000     0.000000          5.000000   \n",
            "50%      -0.234235     0.000000     2.000000    42.000000          5.000000   \n",
            "75%       0.219741     0.000000     2.000000   110.000000          9.000000   \n",
            "max       2.455528    22.000000     9.000000   925.000000         15.000000   \n",
            "\n",
            "       bedroom_bathroom_ratio  price_per_sqft  \n",
            "count             4528.000000     4528.000000  \n",
            "mean                 0.436498        2.404772  \n",
            "std                  2.750292      117.039931  \n",
            "min                -11.112553     -376.734275  \n",
            "25%                 -0.121272       -0.048112  \n",
            "50%                  0.504166        0.622274  \n",
            "75%                  1.275875        1.217149  \n",
            "max                 23.737603     7756.068355  \n"
          ]
        }
      ],
      "source": [
        "print(\"Cleaned dataset shape:{house_df.shape}\")\n",
        "\n",
        "# Display summary of the cleaned dataset\n",
        "print(\"\\nCleaned Dataset Information:\")\n",
        "print(house_df.info())\n",
        "print(\"\\nSummary Statistics of Cleaned Dataset:\")\n",
        "print(house_df.describe())"
      ]
    },
    {
      "cell_type": "code",
      "execution_count": 21,
      "metadata": {},
      "outputs": [
        {
          "data": {
            "text/plain": [
              "floor_covering\n",
              "Carpet, Ceramic Tile                               1219\n",
              "Carpet, Natural Stone                               489\n",
              "Carpet, Ceramic Tile, Wood                          250\n",
              "Ceramic Tile                                        231\n",
              "Concrete                                            223\n",
              "                                                   ... \n",
              "Carpet, Ceramic Tile, Other: Wood Laminate            1\n",
              "Concrete, Wood, Other: Tile bathrooms                 1\n",
              "Carpet, Ceramic Tile, Other: Wood Plan Laminate       1\n",
              "Carpet, Other: Marble                                 1\n",
              "Concrete, Other: Cork                                 1\n",
              "Name: count, Length: 279, dtype: int64"
            ]
          },
          "execution_count": 21,
          "metadata": {},
          "output_type": "execute_result"
        }
      ],
      "source": [
        "house_df[\"floor_covering\"].value_counts()"
      ]
    },
    {
      "cell_type": "markdown",
      "metadata": {},
      "source": [
        "## **Encode all categorical variables**"
      ]
    },
    {
      "cell_type": "code",
      "execution_count": 22,
      "metadata": {},
      "outputs": [],
      "source": [
        "# 5. Encode all categorical variables\n",
        "house_df = pd.get_dummies(house_df, columns=[\"floor_covering\"], drop_first=True)"
      ]
    },
    {
      "cell_type": "code",
      "execution_count": 23,
      "metadata": {},
      "outputs": [
        {
          "data": {
            "text/plain": [
              "(4528, 296)"
            ]
          },
          "execution_count": 23,
          "metadata": {},
          "output_type": "execute_result"
        }
      ],
      "source": [
        "house_df.shape"
      ]
    },
    {
      "cell_type": "markdown",
      "metadata": {},
      "source": [
        "# <font size=\"6\">Cell 3: Data Cleaning and Preprocessing</font>\n",
        "\n",
        "## <font size=\"5\">Process Overview</font>\n",
        "1. Handled missing values\n",
        "2. Corrected data quality issues\n",
        "3. Removed outliers\n",
        "4. Created new features\n",
        "5. Simplified kitchen features\n",
        "6. Encoded categorical variables\n",
        "7. Normalized numerical features\n",
        "\n",
        "## <font size=\"5\">Key Results</font>\n",
        "- Original dataset shape: (5000, 16)\n",
        "- Cleaned dataset shape: (4806, 343)\n",
        "\n",
        "## <font size=\"5\">Data Transformation</font>\n",
        "- Rows reduced: 194 (3.88% reduction, likely due to outlier removal)\n",
        "- Columns increased: from 16 to 343 (due to one-hot encoding of categorical variables)\n",
        "\n",
        "## <font size=\"5\">Cleaned Dataset Information</font>\n",
        "- Index: 4806 entries\n",
        "- Columns: 343 entries\n",
        "- Column types:\n",
        "  - bool: 327 (likely from one-hot encoding)\n",
        "  - float64: 14\n",
        "  - object: 2\n",
        "- Memory usage: 2.1+ MB\n",
        "\n",
        "## <font size=\"5\">Summary Statistics of Cleaned Dataset</font>\n",
        "- All numerical features have been standardized:\n",
        "  - Mean values are very close to 0\n",
        "  - Standard deviations are 1\n",
        "- New features added:\n",
        "  - bedroom_bathroom_ratio\n",
        "  - price_per_sqft\n",
        "\n",
        "## <font size=\"5\">Data Quality Improvements</font>\n",
        "1. Missing values imputed\n",
        "2. Extreme values in 'bedrooms' and 'bathrooms' capped at 10\n",
        "3. 'year_built' values of 0 replaced with median\n",
        "4. Outliers removed using 3-standard deviation method\n",
        "5. Kitchen features simplified and encoded\n",
        "6. Categorical variables one-hot encoded\n",
        "\n",
        "## <font size=\"5\">Warnings and Considerations</font>\n",
        "- FutureWarnings related to inplace operations on DataFrame copies\n",
        "  - These don't affect the current results but suggest updating the code in future pandas versions\n",
        "\n",
        "## <font size=\"5\">Next Steps</font>\n",
        "1. Address the FutureWarnings by modifying the code to avoid inplace operations on copies\n",
        "2. Verify the impact of one-hot encoding on the dataset's dimensionality\n",
        "3. Consider feature selection or dimensionality reduction techniques due to the high number of columns\n",
        "4. Examine the distribution of the new features (bedroom_bathroom_ratio and price_per_sqft)\n",
        "5. Assess the impact of outlier removal on the dataset's representativeness\n",
        "6. Prepare the cleaned dataset for modeling, possibly splitting into training and testing sets\n",
        "\n",
        "The cleaned dataset has been saved as 'cleaned_house_data.csv' for further analysis and modeling."
      ]
    },
    {
      "cell_type": "markdown",
      "metadata": {},
      "source": [
        "# <font size=\"5\">**EDA after data clean up** </font>"
      ]
    },
    {
      "cell_type": "markdown",
      "metadata": {},
      "source": [
        "The purpose of doing the EDA after cleaning the data is to ensure that the data is clean and ready to push to the Model team."
      ]
    },
    {
      "cell_type": "code",
      "execution_count": 24,
      "metadata": {},
      "outputs": [
        {
          "name": "stdout",
          "output_type": "stream",
          "text": [
            "heatMapOfMissingValues is saved!\n"
          ]
        },
        {
          "name": "stderr",
          "output_type": "stream",
          "text": [
            "C:\\Users\\Younes Abaroudi\\AppData\\Local\\Temp\\ipykernel_5904\\918962222.py:56: FutureWarning: \n",
            "\n",
            "Passing `palette` without assigning `hue` is deprecated and will be removed in v0.14.0. Assign the `x` variable to `hue` and set `legend=False` for the same effect.\n",
            "\n",
            "  sns.violinplot(x='bedrooms', y='price', data=house_df, palette='muted')\n",
            "C:\\Users\\Younes Abaroudi\\AppData\\Local\\Temp\\ipykernel_5904\\918962222.py:110: FutureWarning: \n",
            "\n",
            "Passing `palette` without assigning `hue` is deprecated and will be removed in v0.14.0. Assign the `x` variable to `hue` and set `legend=False` for the same effect.\n",
            "\n",
            "  sns.barplot(x='zipcode', y='price', data=zipcode_data, palette='viridis')\n"
          ]
        },
        {
          "name": "stdout",
          "output_type": "stream",
          "text": [
            "All visualizations have been created and saved.\n"
          ]
        }
      ],
      "source": [
        "# 2. Heatmap of Missing Values - BEFORE\n",
        "plt.figure(figsize=(14, 12))\n",
        "sns.heatmap(house_df.isnull(), cbar=False, cmap='viridis', yticklabels=False)\n",
        "plt.title('Heatmap of Missing Values - AFTER', fontsize=12)\n",
        "plt.savefig('plots_before/2-heatMapOfMissingValues.png')\n",
        "plt.close()\n",
        "print(\"heatMapOfMissingValues is saved!\")\n",
        "\n",
        "# 3. Histogram of sold prices\n",
        "plt.figure(figsize=(10, 6))\n",
        "plt.hist(house_df['price'], bins=30, edgecolor='black')\n",
        "plt.title('Distribution of Sold Prices', fontsize=16)\n",
        "plt.xlabel('Sold Price ($)', fontsize=12)\n",
        "plt.ylabel('Frequency', fontsize=12)\n",
        "plt.savefig('plots_after/3-sold_price_distribution.png')\n",
        "plt.close()\n",
        "\n",
        "# 4. Correlation heatmap of key numerical features\n",
        "key_features = ['price', 'lot_acres', 'taxes', 'year_built', 'bedrooms', 'bathrooms', 'sqrt_ft']\n",
        "plt.figure(figsize=(12, 10))\n",
        "corr_matrix = house_df[key_features].corr()\n",
        "sns.heatmap(corr_matrix, annot=True, fmt=\".2f\", cmap='coolwarm', cbar=True)\n",
        "plt.title('Correlation Matrix of Key Features', fontsize=16)\n",
        "plt.savefig('plots_after/4-correlation_heatmap.png')\n",
        "plt.close()\n",
        "\n",
        "# 5. Box plots of key numerical features\n",
        "plt.figure(figsize=(14, 8))\n",
        "house_df[key_features].boxplot()\n",
        "plt.title('Box Plots of Key Numerical Features', fontsize=16)\n",
        "plt.xticks(rotation=45)\n",
        "plt.savefig('plots_after/5-boxplots_key_features.png')\n",
        "plt.close()\n",
        "\n",
        "# 6. Scatter plot of longitude vs latitude (geographical distribution)\n",
        "plt.figure(figsize=(12, 8))\n",
        "scatter = plt.scatter(house_df['longitude'], house_df['latitude'], c=house_df['price'], cmap='viridis', alpha=0.6)\n",
        "plt.colorbar(scatter, label='Sold Price ($)')\n",
        "plt.title('Geographical Distribution of Houses', fontsize=16)\n",
        "plt.xlabel('Longitude', fontsize=12)\n",
        "plt.ylabel('Latitude', fontsize=12)\n",
        "plt.savefig('plots_after/6-geographical_distribution.png')\n",
        "plt.close()\n",
        "\n",
        "# 7. Bar plot of average sold price by number of bedrooms\n",
        "avg_price_by_bedrooms = house_df.groupby('bedrooms')['price'].mean().sort_index()\n",
        "plt.figure(figsize=(12, 6))\n",
        "avg_price_by_bedrooms.plot(kind='bar')\n",
        "plt.title('Average Sold Price by Number of Bedrooms', fontsize=16)\n",
        "plt.xlabel('Number of Bedrooms', fontsize=12)\n",
        "plt.ylabel('Average Sold Price ($)', fontsize=12)\n",
        "plt.savefig('plots_after/7-avg_price_by_bedrooms_1_barPlot.png')\n",
        "plt.close()\n",
        "\n",
        "# 7. Violin plot of average sold price by number of bedrooms\n",
        "sns.violinplot(x='bedrooms', y='price', data=house_df, palette='muted')\n",
        "plt.title('Price Distribution by Number of Bedrooms')\n",
        "plt.xlabel('Number of Bedrooms')\n",
        "plt.ylabel('Sold Price')\n",
        "plt.savefig('plots_after/7-avg_price_by_bedrooms_2_violinPlot.png')\n",
        "plt.close()\n",
        "\n",
        "# 8. Top 10 kitchen features\n",
        "top_kitchen_features = house_df['kitchen_features'].value_counts().nlargest(10)\n",
        "plt.figure(figsize=(12, 6))\n",
        "top_kitchen_features.plot(kind='bar')\n",
        "plt.title('Top 10 Kitchen Features', fontsize=16)\n",
        "plt.xlabel('Kitchen Features', fontsize=12)\n",
        "plt.ylabel('Count', fontsize=12)\n",
        "plt.xticks(rotation=45, ha='right')\n",
        "plt.tight_layout()\n",
        "plt.savefig('plots_after/8-top_kitchen_features.png')\n",
        "plt.close()\n",
        "\n",
        "# 9. Scatter plot of year built vs sold price\n",
        "plt.figure(figsize=(10, 6))\n",
        "plt.scatter(house_df['year_built'], house_df['price'], alpha=0.5)\n",
        "plt.title('Year Built vs Sold Price', fontsize=16)\n",
        "plt.xlabel('Year Built', fontsize=12)\n",
        "plt.ylabel('Sold Price ($)', fontsize=12)\n",
        "plt.savefig('plots_after/9-year_built_vs_sold_price.png')\n",
        "plt.close()\n",
        "\n",
        "# 10. Histogram plots of numerical features:\n",
        "numeric_df = house_df.select_dtypes(include=['float64', 'int64'])\n",
        "numeric_df.hist(bins=30, figsize=(14, 10), color='yellow', edgecolor='red')\n",
        "plt.suptitle('Histograms of Numerical Features', fontsize=22)\n",
        "plt.savefig('plots_after/10-histogram_numerical_features.png')\n",
        "plt.close()\n",
        "\n",
        "# 11. Reg plot of Sold Price vs. Square Footage:\n",
        "plt.figure(figsize=(12, 8))\n",
        "sns.regplot(x='sqrt_ft', y='price', data=house_df, scatter_kws={'alpha':0.5}, line_kws={'color':'red'})\n",
        "plt.title('Sold Price vs. Square Footage')\n",
        "plt.xlabel('Square Footage')\n",
        "plt.ylabel('Sold Price')\n",
        "plt.savefig('plots_after/11-soldPrice_vs_squareFootage.png')\n",
        "plt.close()\n",
        "\n",
        "# 12. Visualizing the average sold price by zipcode\n",
        "# Aggregating data by zip code\n",
        "zipcode_data = house_df.groupby('zipcode').agg({\n",
        "    'price': 'mean',\n",
        "    'mls': 'count',  # Assuming MLS is a unique identifier for properties\n",
        "    'lot_acres': 'mean',\n",
        "    'bedrooms': 'mean'\n",
        "}).reset_index()\n",
        "\n",
        "plt.figure(figsize=(12, 8))\n",
        "sns.barplot(x='zipcode', y='price', data=zipcode_data, palette='viridis')\n",
        "plt.title('Average Sold Price by Zipcode')\n",
        "plt.xlabel('Zipcode')\n",
        "plt.ylabel('Average Sold Price')\n",
        "plt.xticks(rotation=45)\n",
        "plt.savefig('plots_after/12-averageSoldPrice_by_zipCode.png')\n",
        "plt.close()\n",
        "\n",
        "# 13. Pair plot of Key Features\n",
        "sns.pairplot(house_df, diag_kind='kde', plot_kws={'alpha':0.5}, markers='+',\n",
        "             vars=['price', 'lot_acres', 'taxes', 'bedrooms', 'sqrt_ft', 'garage', \"num_kit_features\"])\n",
        "\n",
        "plt.suptitle('Pairplot of Key Features', y=1.02)\n",
        "plt.savefig('plots_after/13-pairPlot_keyFeatures.png')\n",
        "plt.close()\n",
        "plt.show()\n",
        "\n",
        "print(\"All visualizations have been created and saved.\")"
      ]
    },
    {
      "cell_type": "markdown",
      "metadata": {},
      "source": [
        "# <font size=\"5\">**Saving the cleaned dataset post-EDA** </font>"
      ]
    },
    {
      "cell_type": "code",
      "execution_count": 25,
      "metadata": {},
      "outputs": [],
      "source": [
        "house_df.to_csv(\"raw_house_data_cleaned.csv\")"
      ]
    },
    {
      "cell_type": "markdown",
      "metadata": {},
      "source": [
        "# <font size=\"6\">Project Summary: House Price Analysis and Data Preprocessing</font>\n",
        "\n",
        "This project focused on preparing and analyzing a housing dataset for predictive modeling. The work involved extensive data cleaning, exploratory data analysis (EDA), and feature engineering to transform raw housing data into a model-ready dataset.\n",
        "\n",
        "## <font size=\"5\">Key Actions and Technologies:</font>\n",
        "\n",
        "1. **Data Loading and Initial Exploration:**\n",
        "   - Utilized Python and Pandas library to construct a DataFrame for data processing.\n",
        "   - Performed initial data exploration using Pandas' `info()`, `describe()`, and `isnull().sum()` methods.\n",
        "\n",
        "2. **Data Visualization:**\n",
        "   - Leveraged Matplotlib and Seaborn libraries to create insightful visualizations.\n",
        "   - Generated histograms, correlation heatmaps, box plots, and scatter plots to understand data distributions and relationships.\n",
        "\n",
        "3. **Data Cleaning and Preprocessing:**\n",
        "   - Implemented custom functions for handling missing values and removing outliers.\n",
        "   - Used Pandas for data manipulation, including filtering, column creation, and value replacement.\n",
        "\n",
        "4. **Feature Engineering:**\n",
        "   - Created new features such as 'bedroom_bathroom_ratio' and 'price_per_sqft' to enhance predictive power.\n",
        "   - Employed Pandas' `apply()` method for custom feature transformations.\n",
        "\n",
        "5. **Categorical Variable Encoding:**\n",
        "   - Utilized Pandas' `get_dummies()` function for one-hot encoding of categorical variables.\n",
        "   - Significantly increased dataset dimensionality to capture categorical information.\n",
        "\n",
        "6. **Data Normalization:**\n",
        "   - Applied z-score normalization to standardize numerical features.\n",
        "   - Used NumPy for mathematical operations in the normalization process.\n",
        "\n",
        "7. **Final Data Preparation:**\n",
        "   - Conducted a final round of visualizations and statistical analysis on the cleaned dataset.\n",
        "   - Prepared comprehensive documentation of the data preprocessing steps and results.\n",
        "\n",
        "## <font size=\"5\">Project Outcome:</font>\n",
        "\n",
        "The project successfully transformed a raw housing dataset of 5,000 entries and 16 features into a clean, normalized, and feature-rich dataset of 4,806 entries and 2,479 features. This preprocessed dataset is now primed for advanced machine learning modeling techniques, with standardized numerical features and extensive categorical information captured through one-hot encoding.\n",
        "\n",
        "The comprehensive approach to data cleaning, feature engineering, and exploratory data analysis has laid a solid foundation for the subsequent modeling phase. The insights gained and the preprocessed dataset will enable the modeling team to develop more accurate and robust predictive models for house prices."
      ]
    },
    {
      "cell_type": "markdown",
      "metadata": {},
      "source": [
        "# **Project Summary**\n",
        "<font size=\"3\"> In this project, I was responsible for preprocessing and cleaning a housing dataset to prepare it for modeling. The objective was to ensure that the data was clean, consistent, and ready for analysis by the modeling team. Through a series of data exploration and transformation steps, missing values were handled, outliers were identified and addressed, categorical variables were encoded, and numerical features were scaled. The final dataset is well-structured, with all necessary preprocessing steps completed, allowing the modeling team to focus on building predictive models without worrying about data quality issues.\n",
        "<br><br>\n",
        "**Key Actions and Technologies Used:**<br>\n",
        "Utilized Python and Pandas Library to load and manipulate the dataset for data processing tasks.\n",
        "Conducted Exploratory Data Analysis (EDA) using Seaborn and Matplotlib to visualize data distributions, correlations, and potential outliers.\n",
        "Handled Missing Data by using appropriate imputation techniques and dropping rows/columns where necessary, ensuring that the dataset remained robust and informative.\n",
        "Performed Outlier Detection and Treatment, removing data points that could skew the results and affect model performance.\n",
        "Encoded Categorical Variables using techniques like one-hot encoding to convert them into a numerical format suitable for modeling.\n",
        "Scaled Numerical Features to ensure consistency across the dataset, which is crucial for certain machine learning algorithms.\n",
        "Documented Each Step with justifications for the transformations performed, ensuring clear communication with the modeling team and other stakeholders.</font>"
      ]
    },
    {
      "cell_type": "markdown",
      "metadata": {},
      "source": [
        "# MODELING TEAM"
      ]
    },
    {
      "cell_type": "code",
      "execution_count": 27,
      "metadata": {},
      "outputs": [
        {
          "data": {
            "text/plain": [
              "Index(['mls', 'price', 'zipcode', 'longitude', 'latitude', 'lot_acres',\n",
              "       'taxes', 'year_built', 'bedrooms', 'bathrooms',\n",
              "       ...\n",
              "       'floor_covering_Other: Tile-Other', 'floor_covering_Other: Travertine',\n",
              "       'floor_covering_Other: travertine', 'floor_covering_Wood',\n",
              "       'floor_covering_Wood, Other', 'floor_covering_Wood, Other: Lime Stone',\n",
              "       'floor_covering_Wood, Other: Porcelain tile',\n",
              "       'floor_covering_Wood, Other: Travertine',\n",
              "       'floor_covering_Wood, Other: Travertine/Marble',\n",
              "       'floor_covering_Wood, Other: porcelain tile'],\n",
              "      dtype='object', length=296)"
            ]
          },
          "execution_count": 27,
          "metadata": {},
          "output_type": "execute_result"
        }
      ],
      "source": [
        "house_df.columns"
      ]
    },
    {
      "cell_type": "code",
      "execution_count": 28,
      "metadata": {},
      "outputs": [
        {
          "data": {
            "text/plain": [
              "<seaborn.axisgrid.JointGrid at 0x198c5222e40>"
            ]
          },
          "execution_count": 28,
          "metadata": {},
          "output_type": "execute_result"
        },
        {
          "data": {
            "image/png": "[encoded data removed]",
            "text/plain": [
              "<Figure size 600x600 with 3 Axes>"
            ]
          },
          "metadata": {},
          "output_type": "display_data"
        }
      ],
      "source": [
        "sns.jointplot(data=house_df, x=\"price\", y=\"taxes\")"
      ]
    },
    {
      "cell_type": "code",
      "execution_count": 29,
      "metadata": {},
      "outputs": [
        {
          "data": {
            "text/plain": [
              "<seaborn.axisgrid.JointGrid at 0x198c4398680>"
            ]
          },
          "execution_count": 29,
          "metadata": {},
          "output_type": "execute_result"
        },
        {
          "data": {
            "image/png": "[encoded data removed]",
            "text/plain": [
              "<Figure size 600x600 with 3 Axes>"
            ]
          },
          "metadata": {},
          "output_type": "display_data"
        }
      ],
      "source": [
        "sns.jointplot(data=house_df, x=\"price\", y=\"taxes\", kind=\"hex\")"
      ]
    }
  ],
  "metadata": {
    "colab": {
      "provenance": []
    },
    "kernelspec": {
      "display_name": "Python 3",
      "name": "python3"
    },
    "language_info": {
      "codemirror_mode": {
        "name": "ipython",
        "version": 3
      },
      "file_extension": ".py",
      "mimetype": "text/x-python",
      "name": "python",
      "nbconvert_exporter": "python",
      "pygments_lexer": "ipython3",
      "version": "3.12.5"
    }
  },
  "nbformat": 4,
  "nbformat_minor": 0
}
