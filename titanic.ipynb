{
 "cells": [
  {
   "cell_type": "markdown",
   "metadata": {},
   "source": [
    "# Social Inequality Analysis"
   ]
  },
  {
   "cell_type": "markdown",
   "metadata": {},
   "source": [
    "## Introduction\n",
    "- **Use Case: Analyzing Social Inequality in the Titanic Dataset**\n",
    "\n",
    "- **Objective**: In this use case we will be focusing on examining how social class influenced the survival rates of passengers aboard the Titanic. The dataset includes key indicators of social status, such as passenger class (Pclass), fare, and other demographic data, which provide an excellent opportunity to study the relationship between wealth, social inequality, and survival during the disaster.\n",
    "\n",
    "- **Approach**: Apply different machine learning models (Logistic Regression, Feed Forward Neural Networks...) to study the relationship between wealth, social inequality, and survival."
   ]
  },
  {
   "cell_type": "markdown",
   "metadata": {},
   "source": [
    "## Import Liabraries and Utility Functions"
   ]
  },
  {
   "cell_type": "code",
   "execution_count": 31,
   "metadata": {},
   "outputs": [],
   "source": [
    "import numpy as np\n",
    "import pandas as pd\n",
    "import matplotlib.pyplot as plt\n",
    "import seaborn as sns\n",
    "\n",
    "# Set the style for all plots to a default Matplotlib style\n",
    "plt.style.use('default')\n",
    "\n",
    "from matplotlib.colors import ListedColormap\n",
    "cmap_bold = ListedColormap([\"#FF000\", \"#0000FF\"])\n",
    "cmap_light = ListedColormap([\"#FFBBBB\", \"#BBBBFF\"])\n",
    "\n",
    "# Define a function for randomly splitting data into train and test:\n",
    "def train_test_random_spliter(df, train_size, seed_value=42):\n",
    "\n",
    "    # random value for split\n",
    "    np.random.seed(seed_value)\n",
    "    shuffled_indices = np.random.permutation(len(df))\n",
    "\n",
    "    # Define the split index\n",
    "    split_index = int(train_size * len(shuffled_indices))\n",
    "\n",
    "    # Create train and test sets by splitting the shuffled DataFrame\n",
    "    df_train = df.iloc[shuffled_indices[:split_index]]\n",
    "    df_test = df.iloc[shuffled_indices[split_index:]]\n",
    "\n",
    "    return df_train, df_test\n",
    "\n",
    "def softmax(H):\n",
    "    return (np.exp(H.T)/np.sum(np.exp(H), axis=1)).T\n",
    "\n",
    "def cat_cross_entropy(Y, P_hat):\n",
    "    return -(1/len(Y))*np.sum(np.sum(Y*np.log(P_hat), axis=1), axis=0)\n",
    "\n",
    "def indices_to_one_hot(data, nb_classes):\n",
    "    targets = np.array(data).reshape(-1)\n",
    "    return np.eye(nb_classes)[targets]\n",
    "\n",
    "def accuracy(y, y_hat):\n",
    "    return np.mean(y == y_hat)\n",
    "\n",
    "def sigmoid(h):\n",
    "    return 1 / (1 + np.exp(-h))\n",
    "\n",
    "def cross_entropy(y, p_hat):\n",
    "    return - (1/len(y)) * np.sum(y*np.log(p_hat) + (1-y)* np.log(1 - p_hat))\n",
    "\n",
    "def one_hot_encode(y):\n",
    "    N = len(y)\n",
    "    K = len(set(y))\n",
    "    Y = np.zeros((N, K))\n",
    "    for i in range(N):\n",
    "        Y[i, y[i]] = 1\n",
    "    return Y\n",
    "\n"
   ]
  },
  {
   "cell_type": "markdown",
   "metadata": {},
   "source": [
    "## Data Understanding and Preprocessing"
   ]
  },
  {
   "cell_type": "markdown",
   "metadata": {},
   "source": [
    "In this part, we will inspect the data and visualize the survival rate distribution across classes and genders. Then examine the influence of Pclass, Fare, and other relevant columns on the target Survived.\n",
    "Feature correlation analysis."
   ]
  },
  {
   "cell_type": "code",
   "execution_count": 32,
   "metadata": {},
   "outputs": [
    {
     "name": "stdout",
     "output_type": "stream",
     "text": [
      "Dataset Information:\n",
      "<class 'pandas.core.frame.DataFrame'>\n",
      "RangeIndex: 891 entries, 0 to 890\n",
      "Data columns (total 69 columns):\n",
      " #   Column          Non-Null Count  Dtype  \n",
      "---  ------          --------------  -----  \n",
      " 0   Sex             891 non-null    int64  \n",
      " 1   Age             891 non-null    float64\n",
      " 2   SibSp           891 non-null    int64  \n",
      " 3   Parch           891 non-null    int64  \n",
      " 4   Fare            891 non-null    float64\n",
      " 5   Title_Master    891 non-null    int64  \n",
      " 6   Title_Miss      891 non-null    int64  \n",
      " 7   Title_Mr        891 non-null    int64  \n",
      " 8   Title_Mrs       891 non-null    int64  \n",
      " 9   Title_Officer   891 non-null    int64  \n",
      " 10  Title_Royalty   891 non-null    int64  \n",
      " 11  Embarked_C      891 non-null    int64  \n",
      " 12  Embarked_Q      891 non-null    int64  \n",
      " 13  Embarked_S      891 non-null    int64  \n",
      " 14  Cabin_A         891 non-null    int64  \n",
      " 15  Cabin_B         891 non-null    int64  \n",
      " 16  Cabin_C         891 non-null    int64  \n",
      " 17  Cabin_D         891 non-null    int64  \n",
      " 18  Cabin_E         891 non-null    int64  \n",
      " 19  Cabin_F         891 non-null    int64  \n",
      " 20  Cabin_G         891 non-null    int64  \n",
      " 21  Cabin_T         891 non-null    int64  \n",
      " 22  Cabin_U         891 non-null    int64  \n",
      " 23  IsChild         891 non-null    int64  \n",
      " 24  Pclass_1        891 non-null    int64  \n",
      " 25  Pclass_2        891 non-null    int64  \n",
      " 26  Pclass_3        891 non-null    int64  \n",
      " 27  Ticket_A        891 non-null    int64  \n",
      " 28  Ticket_A4       891 non-null    int64  \n",
      " 29  Ticket_A5       891 non-null    int64  \n",
      " 30  Ticket_AQ3      891 non-null    int64  \n",
      " 31  Ticket_AQ4      891 non-null    int64  \n",
      " 32  Ticket_AS       891 non-null    int64  \n",
      " 33  Ticket_C        891 non-null    int64  \n",
      " 34  Ticket_CA       891 non-null    int64  \n",
      " 35  Ticket_CASOTON  891 non-null    int64  \n",
      " 36  Ticket_FC       891 non-null    int64  \n",
      " 37  Ticket_FCC      891 non-null    int64  \n",
      " 38  Ticket_Fa       891 non-null    int64  \n",
      " 39  Ticket_LINE     891 non-null    int64  \n",
      " 40  Ticket_LP       891 non-null    int64  \n",
      " 41  Ticket_PC       891 non-null    int64  \n",
      " 42  Ticket_PP       891 non-null    int64  \n",
      " 43  Ticket_PPP      891 non-null    int64  \n",
      " 44  Ticket_SC       891 non-null    int64  \n",
      " 45  Ticket_SCA3     891 non-null    int64  \n",
      " 46  Ticket_SCA4     891 non-null    int64  \n",
      " 47  Ticket_SCAH     891 non-null    int64  \n",
      " 48  Ticket_SCOW     891 non-null    int64  \n",
      " 49  Ticket_SCPARIS  891 non-null    int64  \n",
      " 50  Ticket_SCParis  891 non-null    int64  \n",
      " 51  Ticket_SOC      891 non-null    int64  \n",
      " 52  Ticket_SOP      891 non-null    int64  \n",
      " 53  Ticket_SOPP     891 non-null    int64  \n",
      " 54  Ticket_SOTONO2  891 non-null    int64  \n",
      " 55  Ticket_SOTONOQ  891 non-null    int64  \n",
      " 56  Ticket_SP       891 non-null    int64  \n",
      " 57  Ticket_STONO    891 non-null    int64  \n",
      " 58  Ticket_STONO2   891 non-null    int64  \n",
      " 59  Ticket_STONOQ   891 non-null    int64  \n",
      " 60  Ticket_SWPP     891 non-null    int64  \n",
      " 61  Ticket_WC       891 non-null    int64  \n",
      " 62  Ticket_WEP      891 non-null    int64  \n",
      " 63  Ticket_XXX      891 non-null    int64  \n",
      " 64  FamilySize      891 non-null    int64  \n",
      " 65  Singleton       891 non-null    int64  \n",
      " 66  SmallFamily     891 non-null    int64  \n",
      " 67  LargeFamily     891 non-null    int64  \n",
      " 68  Survived        891 non-null    int64  \n",
      "dtypes: float64(2), int64(67)\n",
      "memory usage: 480.4 KB\n"
     ]
    }
   ],
   "source": [
    "# Import Data:\n",
    "titanic_df = pd.read_csv(\"data/TitanicPreprocessed.csv\")\n",
    "# Display basic information about the dataset\n",
    "print(\"Dataset Information:\")\n",
    "titanic_df.info()"
   ]
  },
  {
   "cell_type": "code",
   "execution_count": 33,
   "metadata": {},
   "outputs": [
    {
     "data": {
      "text/plain": [
       "Index(['Sex', 'Age', 'SibSp', 'Parch', 'Fare', 'Title_Master', 'Title_Miss',\n",
       "       'Title_Mr', 'Title_Mrs', 'Title_Officer', 'Title_Royalty', 'Embarked_C',\n",
       "       'Embarked_Q', 'Embarked_S', 'Cabin_A', 'Cabin_B', 'Cabin_C', 'Cabin_D',\n",
       "       'Cabin_E', 'Cabin_F', 'Cabin_G', 'Cabin_T', 'Cabin_U', 'IsChild',\n",
       "       'Pclass_1', 'Pclass_2', 'Pclass_3', 'Ticket_A', 'Ticket_A4',\n",
       "       'Ticket_A5', 'Ticket_AQ3', 'Ticket_AQ4', 'Ticket_AS', 'Ticket_C',\n",
       "       'Ticket_CA', 'Ticket_CASOTON', 'Ticket_FC', 'Ticket_FCC', 'Ticket_Fa',\n",
       "       'Ticket_LINE', 'Ticket_LP', 'Ticket_PC', 'Ticket_PP', 'Ticket_PPP',\n",
       "       'Ticket_SC', 'Ticket_SCA3', 'Ticket_SCA4', 'Ticket_SCAH', 'Ticket_SCOW',\n",
       "       'Ticket_SCPARIS', 'Ticket_SCParis', 'Ticket_SOC', 'Ticket_SOP',\n",
       "       'Ticket_SOPP', 'Ticket_SOTONO2', 'Ticket_SOTONOQ', 'Ticket_SP',\n",
       "       'Ticket_STONO', 'Ticket_STONO2', 'Ticket_STONOQ', 'Ticket_SWPP',\n",
       "       'Ticket_WC', 'Ticket_WEP', 'Ticket_XXX', 'FamilySize', 'Singleton',\n",
       "       'SmallFamily', 'LargeFamily', 'Survived'],\n",
       "      dtype='object')"
      ]
     },
     "execution_count": 33,
     "metadata": {},
     "output_type": "execute_result"
    }
   ],
   "source": [
    "titanic_df.columns"
   ]
  },
  {
   "cell_type": "code",
   "execution_count": 34,
   "metadata": {},
   "outputs": [
    {
     "name": "stdout",
     "output_type": "stream",
     "text": [
      "Summary Statistics:\n"
     ]
    },
    {
     "data": {
      "text/html": [
       "<div>\n",
       "<style scoped>\n",
       "    .dataframe tbody tr th:only-of-type {\n",
       "        vertical-align: middle;\n",
       "    }\n",
       "\n",
       "    .dataframe tbody tr th {\n",
       "        vertical-align: top;\n",
       "    }\n",
       "\n",
       "    .dataframe thead th {\n",
       "        text-align: right;\n",
       "    }\n",
       "</style>\n",
       "<table border=\"1\" class=\"dataframe\">\n",
       "  <thead>\n",
       "    <tr style=\"text-align: right;\">\n",
       "      <th></th>\n",
       "      <th>Sex</th>\n",
       "      <th>Age</th>\n",
       "      <th>SibSp</th>\n",
       "      <th>Parch</th>\n",
       "      <th>Fare</th>\n",
       "      <th>Title_Master</th>\n",
       "      <th>Title_Miss</th>\n",
       "      <th>Title_Mr</th>\n",
       "      <th>Title_Mrs</th>\n",
       "      <th>Title_Officer</th>\n",
       "      <th>...</th>\n",
       "      <th>Ticket_STONOQ</th>\n",
       "      <th>Ticket_SWPP</th>\n",
       "      <th>Ticket_WC</th>\n",
       "      <th>Ticket_WEP</th>\n",
       "      <th>Ticket_XXX</th>\n",
       "      <th>FamilySize</th>\n",
       "      <th>Singleton</th>\n",
       "      <th>SmallFamily</th>\n",
       "      <th>LargeFamily</th>\n",
       "      <th>Survived</th>\n",
       "    </tr>\n",
       "  </thead>\n",
       "  <tbody>\n",
       "    <tr>\n",
       "      <th>count</th>\n",
       "      <td>891.000000</td>\n",
       "      <td>891.000000</td>\n",
       "      <td>891.000000</td>\n",
       "      <td>891.000000</td>\n",
       "      <td>891.000000</td>\n",
       "      <td>891.000000</td>\n",
       "      <td>891.000000</td>\n",
       "      <td>891.000000</td>\n",
       "      <td>891.000000</td>\n",
       "      <td>891.000000</td>\n",
       "      <td>...</td>\n",
       "      <td>891.0</td>\n",
       "      <td>891.000000</td>\n",
       "      <td>891.000000</td>\n",
       "      <td>891.000000</td>\n",
       "      <td>891.000000</td>\n",
       "      <td>891.000000</td>\n",
       "      <td>891.0</td>\n",
       "      <td>891.000000</td>\n",
       "      <td>891.000000</td>\n",
       "      <td>891.000000</td>\n",
       "    </tr>\n",
       "    <tr>\n",
       "      <th>mean</th>\n",
       "      <td>0.647587</td>\n",
       "      <td>29.207823</td>\n",
       "      <td>0.523008</td>\n",
       "      <td>0.381594</td>\n",
       "      <td>32.204208</td>\n",
       "      <td>0.044893</td>\n",
       "      <td>0.206510</td>\n",
       "      <td>0.580247</td>\n",
       "      <td>0.142536</td>\n",
       "      <td>0.020202</td>\n",
       "      <td>...</td>\n",
       "      <td>0.0</td>\n",
       "      <td>0.002245</td>\n",
       "      <td>0.011223</td>\n",
       "      <td>0.003367</td>\n",
       "      <td>0.741863</td>\n",
       "      <td>1.904602</td>\n",
       "      <td>0.0</td>\n",
       "      <td>0.327722</td>\n",
       "      <td>0.069585</td>\n",
       "      <td>0.383838</td>\n",
       "    </tr>\n",
       "    <tr>\n",
       "      <th>std</th>\n",
       "      <td>0.477990</td>\n",
       "      <td>13.557871</td>\n",
       "      <td>1.102743</td>\n",
       "      <td>0.806057</td>\n",
       "      <td>49.693429</td>\n",
       "      <td>0.207186</td>\n",
       "      <td>0.405028</td>\n",
       "      <td>0.493796</td>\n",
       "      <td>0.349796</td>\n",
       "      <td>0.140770</td>\n",
       "      <td>...</td>\n",
       "      <td>0.0</td>\n",
       "      <td>0.047351</td>\n",
       "      <td>0.105403</td>\n",
       "      <td>0.057961</td>\n",
       "      <td>0.437855</td>\n",
       "      <td>1.613459</td>\n",
       "      <td>0.0</td>\n",
       "      <td>0.469646</td>\n",
       "      <td>0.254589</td>\n",
       "      <td>0.486592</td>\n",
       "    </tr>\n",
       "    <tr>\n",
       "      <th>min</th>\n",
       "      <td>0.000000</td>\n",
       "      <td>0.420000</td>\n",
       "      <td>0.000000</td>\n",
       "      <td>0.000000</td>\n",
       "      <td>0.000000</td>\n",
       "      <td>0.000000</td>\n",
       "      <td>0.000000</td>\n",
       "      <td>0.000000</td>\n",
       "      <td>0.000000</td>\n",
       "      <td>0.000000</td>\n",
       "      <td>...</td>\n",
       "      <td>0.0</td>\n",
       "      <td>0.000000</td>\n",
       "      <td>0.000000</td>\n",
       "      <td>0.000000</td>\n",
       "      <td>0.000000</td>\n",
       "      <td>1.000000</td>\n",
       "      <td>0.0</td>\n",
       "      <td>0.000000</td>\n",
       "      <td>0.000000</td>\n",
       "      <td>0.000000</td>\n",
       "    </tr>\n",
       "    <tr>\n",
       "      <th>25%</th>\n",
       "      <td>0.000000</td>\n",
       "      <td>21.000000</td>\n",
       "      <td>0.000000</td>\n",
       "      <td>0.000000</td>\n",
       "      <td>7.910400</td>\n",
       "      <td>0.000000</td>\n",
       "      <td>0.000000</td>\n",
       "      <td>0.000000</td>\n",
       "      <td>0.000000</td>\n",
       "      <td>0.000000</td>\n",
       "      <td>...</td>\n",
       "      <td>0.0</td>\n",
       "      <td>0.000000</td>\n",
       "      <td>0.000000</td>\n",
       "      <td>0.000000</td>\n",
       "      <td>0.000000</td>\n",
       "      <td>1.000000</td>\n",
       "      <td>0.0</td>\n",
       "      <td>0.000000</td>\n",
       "      <td>0.000000</td>\n",
       "      <td>0.000000</td>\n",
       "    </tr>\n",
       "    <tr>\n",
       "      <th>50%</th>\n",
       "      <td>1.000000</td>\n",
       "      <td>26.000000</td>\n",
       "      <td>0.000000</td>\n",
       "      <td>0.000000</td>\n",
       "      <td>14.454200</td>\n",
       "      <td>0.000000</td>\n",
       "      <td>0.000000</td>\n",
       "      <td>1.000000</td>\n",
       "      <td>0.000000</td>\n",
       "      <td>0.000000</td>\n",
       "      <td>...</td>\n",
       "      <td>0.0</td>\n",
       "      <td>0.000000</td>\n",
       "      <td>0.000000</td>\n",
       "      <td>0.000000</td>\n",
       "      <td>1.000000</td>\n",
       "      <td>1.000000</td>\n",
       "      <td>0.0</td>\n",
       "      <td>0.000000</td>\n",
       "      <td>0.000000</td>\n",
       "      <td>0.000000</td>\n",
       "    </tr>\n",
       "    <tr>\n",
       "      <th>75%</th>\n",
       "      <td>1.000000</td>\n",
       "      <td>36.750000</td>\n",
       "      <td>1.000000</td>\n",
       "      <td>0.000000</td>\n",
       "      <td>31.000000</td>\n",
       "      <td>0.000000</td>\n",
       "      <td>0.000000</td>\n",
       "      <td>1.000000</td>\n",
       "      <td>0.000000</td>\n",
       "      <td>0.000000</td>\n",
       "      <td>...</td>\n",
       "      <td>0.0</td>\n",
       "      <td>0.000000</td>\n",
       "      <td>0.000000</td>\n",
       "      <td>0.000000</td>\n",
       "      <td>1.000000</td>\n",
       "      <td>2.000000</td>\n",
       "      <td>0.0</td>\n",
       "      <td>1.000000</td>\n",
       "      <td>0.000000</td>\n",
       "      <td>1.000000</td>\n",
       "    </tr>\n",
       "    <tr>\n",
       "      <th>max</th>\n",
       "      <td>1.000000</td>\n",
       "      <td>80.000000</td>\n",
       "      <td>8.000000</td>\n",
       "      <td>6.000000</td>\n",
       "      <td>512.329200</td>\n",
       "      <td>1.000000</td>\n",
       "      <td>1.000000</td>\n",
       "      <td>1.000000</td>\n",
       "      <td>1.000000</td>\n",
       "      <td>1.000000</td>\n",
       "      <td>...</td>\n",
       "      <td>0.0</td>\n",
       "      <td>1.000000</td>\n",
       "      <td>1.000000</td>\n",
       "      <td>1.000000</td>\n",
       "      <td>1.000000</td>\n",
       "      <td>11.000000</td>\n",
       "      <td>0.0</td>\n",
       "      <td>1.000000</td>\n",
       "      <td>1.000000</td>\n",
       "      <td>1.000000</td>\n",
       "    </tr>\n",
       "  </tbody>\n",
       "</table>\n",
       "<p>8 rows × 69 columns</p>\n",
       "</div>"
      ],
      "text/plain": [
       "              Sex         Age       SibSp       Parch        Fare  \\\n",
       "count  891.000000  891.000000  891.000000  891.000000  891.000000   \n",
       "mean     0.647587   29.207823    0.523008    0.381594   32.204208   \n",
       "std      0.477990   13.557871    1.102743    0.806057   49.693429   \n",
       "min      0.000000    0.420000    0.000000    0.000000    0.000000   \n",
       "25%      0.000000   21.000000    0.000000    0.000000    7.910400   \n",
       "50%      1.000000   26.000000    0.000000    0.000000   14.454200   \n",
       "75%      1.000000   36.750000    1.000000    0.000000   31.000000   \n",
       "max      1.000000   80.000000    8.000000    6.000000  512.329200   \n",
       "\n",
       "       Title_Master  Title_Miss    Title_Mr   Title_Mrs  Title_Officer  ...  \\\n",
       "count    891.000000  891.000000  891.000000  891.000000     891.000000  ...   \n",
       "mean       0.044893    0.206510    0.580247    0.142536       0.020202  ...   \n",
       "std        0.207186    0.405028    0.493796    0.349796       0.140770  ...   \n",
       "min        0.000000    0.000000    0.000000    0.000000       0.000000  ...   \n",
       "25%        0.000000    0.000000    0.000000    0.000000       0.000000  ...   \n",
       "50%        0.000000    0.000000    1.000000    0.000000       0.000000  ...   \n",
       "75%        0.000000    0.000000    1.000000    0.000000       0.000000  ...   \n",
       "max        1.000000    1.000000    1.000000    1.000000       1.000000  ...   \n",
       "\n",
       "       Ticket_STONOQ  Ticket_SWPP   Ticket_WC  Ticket_WEP  Ticket_XXX  \\\n",
       "count          891.0   891.000000  891.000000  891.000000  891.000000   \n",
       "mean             0.0     0.002245    0.011223    0.003367    0.741863   \n",
       "std              0.0     0.047351    0.105403    0.057961    0.437855   \n",
       "min              0.0     0.000000    0.000000    0.000000    0.000000   \n",
       "25%              0.0     0.000000    0.000000    0.000000    0.000000   \n",
       "50%              0.0     0.000000    0.000000    0.000000    1.000000   \n",
       "75%              0.0     0.000000    0.000000    0.000000    1.000000   \n",
       "max              0.0     1.000000    1.000000    1.000000    1.000000   \n",
       "\n",
       "       FamilySize  Singleton  SmallFamily  LargeFamily    Survived  \n",
       "count  891.000000      891.0   891.000000   891.000000  891.000000  \n",
       "mean     1.904602        0.0     0.327722     0.069585    0.383838  \n",
       "std      1.613459        0.0     0.469646     0.254589    0.486592  \n",
       "min      1.000000        0.0     0.000000     0.000000    0.000000  \n",
       "25%      1.000000        0.0     0.000000     0.000000    0.000000  \n",
       "50%      1.000000        0.0     0.000000     0.000000    0.000000  \n",
       "75%      2.000000        0.0     1.000000     0.000000    1.000000  \n",
       "max     11.000000        0.0     1.000000     1.000000    1.000000  \n",
       "\n",
       "[8 rows x 69 columns]"
      ]
     },
     "execution_count": 34,
     "metadata": {},
     "output_type": "execute_result"
    }
   ],
   "source": [
    "# Display summary statistics of the numerical columns\n",
    "print(\"Summary Statistics:\")\n",
    "titanic_df.describe()"
   ]
  },
  {
   "cell_type": "code",
   "execution_count": 35,
   "metadata": {},
   "outputs": [
    {
     "name": "stdout",
     "output_type": "stream",
     "text": [
      "Missing Values:\n"
     ]
    },
    {
     "data": {
      "text/plain": [
       "Sex            0\n",
       "Age            0\n",
       "SibSp          0\n",
       "Parch          0\n",
       "Fare           0\n",
       "              ..\n",
       "FamilySize     0\n",
       "Singleton      0\n",
       "SmallFamily    0\n",
       "LargeFamily    0\n",
       "Survived       0\n",
       "Length: 69, dtype: int64"
      ]
     },
     "execution_count": 35,
     "metadata": {},
     "output_type": "execute_result"
    }
   ],
   "source": [
    "# Check for missing values in each column\n",
    "print(\"Missing Values:\")\n",
    "titanic_df.isnull().sum()"
   ]
  },
  {
   "cell_type": "code",
   "execution_count": 36,
   "metadata": {},
   "outputs": [
    {
     "name": "stdout",
     "output_type": "stream",
     "text": [
      "First few rows:\n"
     ]
    },
    {
     "data": {
      "text/html": [
       "<div>\n",
       "<style scoped>\n",
       "    .dataframe tbody tr th:only-of-type {\n",
       "        vertical-align: middle;\n",
       "    }\n",
       "\n",
       "    .dataframe tbody tr th {\n",
       "        vertical-align: top;\n",
       "    }\n",
       "\n",
       "    .dataframe thead th {\n",
       "        text-align: right;\n",
       "    }\n",
       "</style>\n",
       "<table border=\"1\" class=\"dataframe\">\n",
       "  <thead>\n",
       "    <tr style=\"text-align: right;\">\n",
       "      <th></th>\n",
       "      <th>Sex</th>\n",
       "      <th>Age</th>\n",
       "      <th>SibSp</th>\n",
       "      <th>Parch</th>\n",
       "      <th>Fare</th>\n",
       "      <th>Title_Master</th>\n",
       "      <th>Title_Miss</th>\n",
       "      <th>Title_Mr</th>\n",
       "      <th>Title_Mrs</th>\n",
       "      <th>Title_Officer</th>\n",
       "      <th>...</th>\n",
       "      <th>Ticket_STONOQ</th>\n",
       "      <th>Ticket_SWPP</th>\n",
       "      <th>Ticket_WC</th>\n",
       "      <th>Ticket_WEP</th>\n",
       "      <th>Ticket_XXX</th>\n",
       "      <th>FamilySize</th>\n",
       "      <th>Singleton</th>\n",
       "      <th>SmallFamily</th>\n",
       "      <th>LargeFamily</th>\n",
       "      <th>Survived</th>\n",
       "    </tr>\n",
       "  </thead>\n",
       "  <tbody>\n",
       "    <tr>\n",
       "      <th>0</th>\n",
       "      <td>1</td>\n",
       "      <td>22.0</td>\n",
       "      <td>1</td>\n",
       "      <td>0</td>\n",
       "      <td>7.2500</td>\n",
       "      <td>0</td>\n",
       "      <td>0</td>\n",
       "      <td>1</td>\n",
       "      <td>0</td>\n",
       "      <td>0</td>\n",
       "      <td>...</td>\n",
       "      <td>0</td>\n",
       "      <td>0</td>\n",
       "      <td>0</td>\n",
       "      <td>0</td>\n",
       "      <td>0</td>\n",
       "      <td>2</td>\n",
       "      <td>0</td>\n",
       "      <td>1</td>\n",
       "      <td>0</td>\n",
       "      <td>0</td>\n",
       "    </tr>\n",
       "    <tr>\n",
       "      <th>1</th>\n",
       "      <td>0</td>\n",
       "      <td>38.0</td>\n",
       "      <td>1</td>\n",
       "      <td>0</td>\n",
       "      <td>71.2833</td>\n",
       "      <td>0</td>\n",
       "      <td>0</td>\n",
       "      <td>0</td>\n",
       "      <td>1</td>\n",
       "      <td>0</td>\n",
       "      <td>...</td>\n",
       "      <td>0</td>\n",
       "      <td>0</td>\n",
       "      <td>0</td>\n",
       "      <td>0</td>\n",
       "      <td>0</td>\n",
       "      <td>2</td>\n",
       "      <td>0</td>\n",
       "      <td>1</td>\n",
       "      <td>0</td>\n",
       "      <td>1</td>\n",
       "    </tr>\n",
       "    <tr>\n",
       "      <th>2</th>\n",
       "      <td>0</td>\n",
       "      <td>26.0</td>\n",
       "      <td>0</td>\n",
       "      <td>0</td>\n",
       "      <td>7.9250</td>\n",
       "      <td>0</td>\n",
       "      <td>1</td>\n",
       "      <td>0</td>\n",
       "      <td>0</td>\n",
       "      <td>0</td>\n",
       "      <td>...</td>\n",
       "      <td>0</td>\n",
       "      <td>0</td>\n",
       "      <td>0</td>\n",
       "      <td>0</td>\n",
       "      <td>0</td>\n",
       "      <td>1</td>\n",
       "      <td>0</td>\n",
       "      <td>0</td>\n",
       "      <td>0</td>\n",
       "      <td>1</td>\n",
       "    </tr>\n",
       "    <tr>\n",
       "      <th>3</th>\n",
       "      <td>0</td>\n",
       "      <td>35.0</td>\n",
       "      <td>1</td>\n",
       "      <td>0</td>\n",
       "      <td>53.1000</td>\n",
       "      <td>0</td>\n",
       "      <td>0</td>\n",
       "      <td>0</td>\n",
       "      <td>1</td>\n",
       "      <td>0</td>\n",
       "      <td>...</td>\n",
       "      <td>0</td>\n",
       "      <td>0</td>\n",
       "      <td>0</td>\n",
       "      <td>0</td>\n",
       "      <td>1</td>\n",
       "      <td>2</td>\n",
       "      <td>0</td>\n",
       "      <td>1</td>\n",
       "      <td>0</td>\n",
       "      <td>1</td>\n",
       "    </tr>\n",
       "    <tr>\n",
       "      <th>4</th>\n",
       "      <td>1</td>\n",
       "      <td>35.0</td>\n",
       "      <td>0</td>\n",
       "      <td>0</td>\n",
       "      <td>8.0500</td>\n",
       "      <td>0</td>\n",
       "      <td>0</td>\n",
       "      <td>1</td>\n",
       "      <td>0</td>\n",
       "      <td>0</td>\n",
       "      <td>...</td>\n",
       "      <td>0</td>\n",
       "      <td>0</td>\n",
       "      <td>0</td>\n",
       "      <td>0</td>\n",
       "      <td>1</td>\n",
       "      <td>1</td>\n",
       "      <td>0</td>\n",
       "      <td>0</td>\n",
       "      <td>0</td>\n",
       "      <td>0</td>\n",
       "    </tr>\n",
       "  </tbody>\n",
       "</table>\n",
       "<p>5 rows × 69 columns</p>\n",
       "</div>"
      ],
      "text/plain": [
       "   Sex   Age  SibSp  Parch     Fare  Title_Master  Title_Miss  Title_Mr  \\\n",
       "0    1  22.0      1      0   7.2500             0           0         1   \n",
       "1    0  38.0      1      0  71.2833             0           0         0   \n",
       "2    0  26.0      0      0   7.9250             0           1         0   \n",
       "3    0  35.0      1      0  53.1000             0           0         0   \n",
       "4    1  35.0      0      0   8.0500             0           0         1   \n",
       "\n",
       "   Title_Mrs  Title_Officer  ...  Ticket_STONOQ  Ticket_SWPP  Ticket_WC  \\\n",
       "0          0              0  ...              0            0          0   \n",
       "1          1              0  ...              0            0          0   \n",
       "2          0              0  ...              0            0          0   \n",
       "3          1              0  ...              0            0          0   \n",
       "4          0              0  ...              0            0          0   \n",
       "\n",
       "   Ticket_WEP  Ticket_XXX  FamilySize  Singleton  SmallFamily  LargeFamily  \\\n",
       "0           0           0           2          0            1            0   \n",
       "1           0           0           2          0            1            0   \n",
       "2           0           0           1          0            0            0   \n",
       "3           0           1           2          0            1            0   \n",
       "4           0           1           1          0            0            0   \n",
       "\n",
       "   Survived  \n",
       "0         0  \n",
       "1         1  \n",
       "2         1  \n",
       "3         1  \n",
       "4         0  \n",
       "\n",
       "[5 rows x 69 columns]"
      ]
     },
     "execution_count": 36,
     "metadata": {},
     "output_type": "execute_result"
    }
   ],
   "source": [
    "# Display the first few rows of the dataset\n",
    "print(\"First few rows:\")\n",
    "titanic_df.head()"
   ]
  },
  {
   "cell_type": "code",
   "execution_count": 37,
   "metadata": {},
   "outputs": [
    {
     "name": "stdout",
     "output_type": "stream",
     "text": [
      "Unique Values per Column:\n"
     ]
    },
    {
     "data": {
      "text/plain": [
       "Sex              2\n",
       "Age             89\n",
       "SibSp            7\n",
       "Parch            7\n",
       "Fare           248\n",
       "              ... \n",
       "FamilySize       9\n",
       "Singleton        1\n",
       "SmallFamily      2\n",
       "LargeFamily      2\n",
       "Survived         2\n",
       "Length: 69, dtype: int64"
      ]
     },
     "execution_count": 37,
     "metadata": {},
     "output_type": "execute_result"
    }
   ],
   "source": [
    "# Display the number of unique values\n",
    "print(\"Unique Values per Column:\")\n",
    "titanic_df.nunique()"
   ]
  },
  {
   "cell_type": "code",
   "execution_count": 38,
   "metadata": {},
   "outputs": [
    {
     "name": "stdout",
     "output_type": "stream",
     "text": [
      "Number of duplicate rows: 95\n"
     ]
    }
   ],
   "source": [
    "# Check for any duplicate rows\n",
    "duplicates = titanic_df.duplicated().sum()\n",
    "print(f\"Number of duplicate rows: {duplicates}\")"
   ]
  },
  {
   "cell_type": "code",
   "execution_count": 39,
   "metadata": {},
   "outputs": [
    {
     "name": "stdout",
     "output_type": "stream",
     "text": [
      "Number of duplicate rows after removal: 0\n"
     ]
    }
   ],
   "source": [
    "# Remove duplicate rows\n",
    "titanic_df = titanic_df.drop_duplicates()\n",
    "\n",
    "# Verify if duplicates have been removed\n",
    "duplicates_after = titanic_df.duplicated().sum()\n",
    "print(f\"Number of duplicate rows after removal: {duplicates_after}\")\n"
   ]
  },
  {
   "cell_type": "code",
   "execution_count": 40,
   "metadata": {},
   "outputs": [
    {
     "name": "stdout",
     "output_type": "stream",
     "text": [
      "Basic statistics for 'Survived':\n",
      "count    796.000000\n",
      "mean       0.409548\n",
      "std        0.492060\n",
      "min        0.000000\n",
      "25%        0.000000\n",
      "50%        0.000000\n",
      "75%        1.000000\n",
      "max        1.000000\n",
      "Name: Survived, dtype: float64\n"
     ]
    }
   ],
   "source": [
    "print(\"Basic statistics for 'Survived':\")\n",
    "print(titanic_df['Survived'].describe())"
   ]
  },
  {
   "cell_type": "markdown",
   "metadata": {},
   "source": [
    "### Initial Feature Engineering"
   ]
  },
  {
   "cell_type": "code",
   "execution_count": 41,
   "metadata": {},
   "outputs": [
    {
     "name": "stdout",
     "output_type": "stream",
     "text": [
      "   Sex   Age  SibSp  Parch     Fare  Title_Master  Title_Miss  Title_Mr  \\\n",
      "0    1  22.0      1      0   7.2500             0           0         1   \n",
      "1    0  38.0      1      0  71.2833             0           0         0   \n",
      "2    0  26.0      0      0   7.9250             0           1         0   \n",
      "3    0  35.0      1      0  53.1000             0           0         0   \n",
      "4    1  35.0      0      0   8.0500             0           0         1   \n",
      "\n",
      "   Title_Mrs  Title_Officer  ...  Ticket_SWPP  Ticket_WC  Ticket_WEP  \\\n",
      "0          0              0  ...            0          0           0   \n",
      "1          1              0  ...            0          0           0   \n",
      "2          0              0  ...            0          0           0   \n",
      "3          1              0  ...            0          0           0   \n",
      "4          0              0  ...            0          0           0   \n",
      "\n",
      "   Ticket_XXX  FamilySize  Singleton  SmallFamily  LargeFamily  Survived  \\\n",
      "0           0           2          0            1            0         0   \n",
      "1           0           2          0            1            0         1   \n",
      "2           0           1          0            0            0         1   \n",
      "3           1           2          0            1            0         1   \n",
      "4           1           1          0            0            0         0   \n",
      "\n",
      "   Pclass  \n",
      "0       3  \n",
      "1       1  \n",
      "2       3  \n",
      "3       1  \n",
      "4       3  \n",
      "\n",
      "[5 rows x 67 columns]\n"
     ]
    }
   ],
   "source": [
    "# Set up data for Pclass\n",
    "titanic_df['Pclass'] = titanic_df[['Pclass_1', 'Pclass_2', 'Pclass_3']].idxmax(axis=1)\n",
    "titanic_df['Pclass'] = titanic_df['Pclass'].apply(lambda x: x.split('_')[1])\n",
    "titanic_df['Pclass'] = titanic_df['Pclass'].astype(int)\n",
    "\n",
    "# Drop the one-hot encoded columns for Pclass\n",
    "titanic_df.drop(['Pclass_1', 'Pclass_2', 'Pclass_3'], axis=1, inplace=True)\n",
    "\n",
    "# Verify the columns have been dropped\n",
    "print(titanic_df.head())"
   ]
  },
  {
   "cell_type": "markdown",
   "metadata": {},
   "source": [
    "### Data split "
   ]
  },
  {
   "cell_type": "code",
   "execution_count": 42,
   "metadata": {},
   "outputs": [
    {
     "name": "stdout",
     "output_type": "stream",
     "text": [
      "X_train shape: (636, 66), X_test shape: (160, 66)\n",
      "y_train shape: (636,), y_test shape: (160,)\n"
     ]
    }
   ],
   "source": [
    "# Split Data into train and test datasets (allocating 80% for Trainning):\n",
    "df_train, df_test = train_test_random_spliter(titanic_df, train_size=0.8)\n",
    "\n",
    "# Separate features (X_train) and target (y_train) by dropping the 'Survived' column\n",
    "X_train = df_train.drop(columns=['Survived'])\n",
    "y_train = df_train['Survived']\n",
    "\n",
    "# Similarly, for the test set\n",
    "X_test = df_test.drop(columns=['Survived'])\n",
    "y_test = df_test['Survived']\n",
    "\n",
    "# Now X_train, X_test, y_train, y_test contain the split data\n",
    "print(f\"X_train shape: {X_train.shape}, X_test shape: {X_test.shape}\")\n",
    "print(f\"y_train shape: {y_train.shape}, y_test shape: {y_test.shape}\")\n",
    "\n",
    "# Storing Metrics:\n",
    "metrics_db = {}"
   ]
  },
  {
   "cell_type": "markdown",
   "metadata": {},
   "source": [
    "### Survival Rate Distribution Across Classes and Genders"
   ]
  },
  {
   "cell_type": "code",
   "execution_count": 43,
   "metadata": {},
   "outputs": [
    {
     "data": {
      "image/png": "[encoded data removed]",
      "text/plain": [
       "<Figure size 1000x600 with 1 Axes>"
      ]
     },
     "metadata": {},
     "output_type": "display_data"
    },
    {
     "data": {
      "image/png": "[encoded data removed]",
      "text/plain": [
       "<Figure size 1000x600 with 1 Axes>"
      ]
     },
     "metadata": {},
     "output_type": "display_data"
    }
   ],
   "source": [
    "# Set up a mapping for Sex\n",
    "sex_labels = {0: 'Female', 1: 'Male'}\n",
    "\n",
    "# Set up the plotting area for the passenger distribution by class and gender\n",
    "plt.figure(figsize=(10, 6))\n",
    "\n",
    "# Create a grouped bar plot for Sex and Pclass showing survival\n",
    "sns.countplot(x='Pclass', hue=titanic_df['Sex'].map(sex_labels), data=titanic_df, palette='Set1')\n",
    "plt.title('Distribution of Passengers by Class and Gender')\n",
    "plt.ylabel('Passenger Count')\n",
    "plt.xlabel('Passenger Class')\n",
    "\n",
    "# Show the plot\n",
    "plt.show()\n",
    "\n",
    "# Now let's create a side-by-side plot for Survival based on Gender and Pclass\n",
    "plt.figure(figsize=(10, 6))\n",
    "\n",
    "# Create a grouped bar plot for Survival Rate by Gender and Pclass\n",
    "sns.barplot(x='Pclass', hue=titanic_df['Sex'].map(sex_labels), y='Survived', data=titanic_df, palette='Set2')\n",
    "plt.title('Survival Rate by Passenger Class and Gender')\n",
    "plt.ylabel('Survival Rate')\n",
    "plt.xlabel('Passenger Class')\n",
    "\n",
    "# Show the plot\n",
    "plt.show()"
   ]
  },
  {
   "cell_type": "markdown",
   "metadata": {},
   "source": [
    "### Influence of Pclass and Fare on Survival"
   ]
  },
  {
   "cell_type": "code",
   "execution_count": 44,
   "metadata": {},
   "outputs": [
    {
     "data": {
      "image/png": "[encoded data removed]",
      "text/plain": [
       "<Figure size 1000x600 with 1 Axes>"
      ]
     },
     "metadata": {},
     "output_type": "display_data"
    }
   ],
   "source": [
    "# Box plot for Fare vs Pclass and Survival\n",
    "plt.figure(figsize=(10, 6))\n",
    "\n",
    "sns.boxplot(x='Pclass', y='Fare', hue='Survived', data=titanic_df, palette='Set3')\n",
    "plt.title('Fare Distribution by Pclass and Survival Status')\n",
    "plt.ylabel('Fare')\n",
    "plt.xlabel('Passenger Class')\n",
    "plt.legend(title='Survived', loc='upper right')\n",
    "\n",
    "plt.show()"
   ]
  },
  {
   "cell_type": "markdown",
   "metadata": {},
   "source": [
    "### Influence of Family size on Survival"
   ]
  },
  {
   "cell_type": "code",
   "execution_count": 45,
   "metadata": {},
   "outputs": [
    {
     "name": "stderr",
     "output_type": "stream",
     "text": [
      "C:\\Users\\Younes Abaroudi\\AppData\\Local\\Temp\\ipykernel_23332\\1924686206.py:4: FutureWarning: \n",
      "\n",
      "Passing `palette` without assigning `hue` is deprecated and will be removed in v0.14.0. Assign the `x` variable to `hue` and set `legend=False` for the same effect.\n",
      "\n",
      "  sns.barplot(x='FamilySize', y='Survived', data=titanic_df, palette='Blues_d')\n"
     ]
    },
    {
     "data": {
      "image/png": "[encoded data removed]",
      "text/plain": [
       "<Figure size 1000x600 with 1 Axes>"
      ]
     },
     "metadata": {},
     "output_type": "display_data"
    }
   ],
   "source": [
    "# Bar plot for Survival Rate by Family Size\n",
    "plt.figure(figsize=(10, 6))\n",
    "\n",
    "sns.barplot(x='FamilySize', y='Survived', data=titanic_df, palette='Blues_d')\n",
    "plt.title('Survival Rate by Family Size')\n",
    "plt.ylabel('Survival Rate')\n",
    "plt.xlabel('Family Size')\n",
    "plt.show()\n"
   ]
  },
  {
   "cell_type": "markdown",
   "metadata": {},
   "source": [
    "### Correlations between features and their impact on Survival"
   ]
  },
  {
   "cell_type": "code",
   "execution_count": 46,
   "metadata": {},
   "outputs": [
    {
     "data": {
      "image/png": "[encoded data removed]",
      "text/plain": [
       "<Figure size 1000x800 with 2 Axes>"
      ]
     },
     "metadata": {},
     "output_type": "display_data"
    }
   ],
   "source": [
    "# Subset of features for social inequality analysis\n",
    "social_inequality_features = [\n",
    "    'Survived', 'Pclass', 'Fare', 'Sex', 'Age', 'Embarked_C', 'Embarked_Q', 'Embarked_S', \n",
    "    'SibSp', 'Parch', 'FamilySize', 'Title_Mr', 'Title_Mrs', 'Title_Miss', 'Title_Master', \n",
    "    'Title_Officer', 'Title_Royalty'\n",
    "]\n",
    "\n",
    "# Compute the correlation matrix for the selected features\n",
    "corr_matrix = titanic_df[social_inequality_features].corr()\n",
    "\n",
    "# Plot the correlation heatmap\n",
    "plt.figure(figsize=(10, 8))\n",
    "sns.heatmap(corr_matrix, cmap='coolwarm', linewidths=0.5)\n",
    "plt.title('Correlation Matrix for Social Inequality Features')\n",
    "plt.show()\n"
   ]
  },
  {
   "cell_type": "markdown",
   "metadata": {},
   "source": [
    "### Observations and Conclusions\n",
    "\n",
    "### 1. **Survival Rate by Family Size**\n",
    "   - Passengers with family sizes of 1 (single individuals) and larger families (6 or more members) had lower survival rates compared to those in small families (2-4 members).\n",
    "   - Family sizes of 3 and 4 show the highest survival rates, indicating that traveling with a smaller, more manageable family size may have increased chances of survival.\n",
    "   - Large families, particularly those with 5+ members, had noticeably lower survival rates, likely due to the difficulty of evacuating large groups during the disaster.\n",
    "\n",
    "### 2. **Fare Distribution by Pclass and Survival Status**\n",
    "   - First-class passengers paid significantly higher fares and had a higher survival rate compared to second- and third-class passengers.\n",
    "   - Third-class passengers, who paid the lowest fares, had the lowest survival rates.\n",
    "   - Fares show a clear division between the classes, and survival appears to be positively influenced by fare amount, which is a proxy for wealth or class.\n",
    "\n",
    "### 3. **Survival Rate by Passenger Class and Gender**\n",
    "   - First-class passengers had the highest survival rates, regardless of gender, with almost all female passengers in this class surviving.\n",
    "   - Among second-class passengers, males had a much lower survival rate compared to females.\n",
    "   - Third-class passengers had the lowest survival rate overall, with males in this class particularly disadvantaged in terms of survival chances.\n",
    "\n",
    "### 4. **Distribution of Passengers by Class and Gender**\n",
    "   - A large portion of the passengers were third-class males, which explains the lower overall survival rate for this group.\n",
    "   - The passenger distribution reflects the social structure of the Titanic, with more lower-class passengers and relatively fewer first-class passengers.\n",
    "\n",
    "### 5. **Correlation Matrix for Social Inequality Features**\n",
    "   - **Pclass** is negatively correlated with survival, indicating that higher social class (lower numerical value for `Pclass`) was associated with a higher likelihood of survival.\n",
    "   - **Fare** is positively correlated with survival, which aligns with the expectation that wealthier passengers (who paid higher fares) had better survival odds.\n",
    "   - **Sex** shows a significant negative correlation with survival, highlighting that female passengers (encoded as 0) were more likely to survive compared to male passengers (encoded as 1).\n",
    "   - **FamilySize**, **SibSp**, and **Parch** are slightly correlated with each other but show weak correlation with survival, indicating that family size had only a limited direct influence on survival rates.\n",
    "   - **Titles** like `Title_Mr` are negatively correlated with survival, indicating that passengers with the title \"Mr\" (likely male adults) had lower survival chances. Conversely, titles such as `Title_Mrs` and `Title_Miss` show positive correlations with survival, reflecting the prioritization of women during evacuation.\n",
    "   - **Embarked_C** shows a slight positive correlation with survival, whereas **Embarked_Q** and **Embarked_S** show weak to no correlations with survival, suggesting that passengers who boarded at Cherbourg may have had better survival outcomes compared to other embarkation points.\n"
   ]
  },
  {
   "cell_type": "markdown",
   "metadata": {},
   "source": [
    "## Applying Multi Class Logistic Regression"
   ]
  },
  {
   "cell_type": "code",
   "execution_count": 47,
   "metadata": {},
   "outputs": [],
   "source": [
    "class MVLogisticRegression():\n",
    "\n",
    "    def fit(self, X, y, eta=1e-3, epochs = 1e3, show_curve=False):\n",
    "        epochs = int(epochs)\n",
    "        N, D = X.shape\n",
    "        K = len(np.unique(y))\n",
    "        Y = indices_to_one_hot(y, K).astype(int)\n",
    "\n",
    "        # Initialize Weights:\n",
    "        self.W = np.random.randn(D, K)\n",
    "        self.B =np.random.randn(K)\n",
    "\n",
    "        J = np.zeros(epochs)\n",
    "        #  SGD\n",
    "        for epoch in range(epochs):\n",
    "            P_hat = self.__forward__(X)\n",
    "            J[epoch] = cat_cross_entropy(Y, P_hat)\n",
    "\n",
    "            # Weight Update rules\n",
    "            self.W -= eta * (1/N) * X.T@(P_hat-Y)\n",
    "            self.B -= eta*(1/N)*np.sum(P_hat-Y, axis=0)\n",
    "\n",
    "        if show_curve:\n",
    "            plt.figure()\n",
    "            plt.plot(J)\n",
    "            plt.xlabel(\"epochs\")\n",
    "            plt.ylabel(r\"$\\mathcal{J}$\")\n",
    "            plt.title(\"Trainning Curve\")\n",
    "\n",
    "    def __forward__(self, X):\n",
    "        return softmax(X@self.W + self.B)\n",
    "    \n",
    "    def predict(self, X):\n",
    "        return np.argmax(self.__forward__(X), axis=1)"
   ]
  },
  {
   "cell_type": "code",
   "execution_count": 48,
   "metadata": {},
   "outputs": [],
   "source": [
    "# Convert DataFrames to numpy arrays\n",
    "X_train = df_train.values  # Correct: Selecting columns first, then converting to NumPy array\n",
    "y_train = df_train['Survived'].values  # Target variable\n",
    "\n",
    "X_test = df_test.values  # Correct: Selecting columns first, then converting to NumPy array\n",
    "y_test = df_test['Survived'].values  # Target variable"
   ]
  },
  {
   "cell_type": "code",
   "execution_count": 49,
   "metadata": {},
   "outputs": [
    {
     "name": "stderr",
     "output_type": "stream",
     "text": [
      "C:\\Users\\Younes Abaroudi\\AppData\\Local\\Temp\\ipykernel_23332\\1748412575.py:30: RuntimeWarning: overflow encountered in exp\n",
      "  return (np.exp(H.T)/np.sum(np.exp(H), axis=1)).T\n",
      "C:\\Users\\Younes Abaroudi\\AppData\\Local\\Temp\\ipykernel_23332\\1748412575.py:30: RuntimeWarning: invalid value encountered in divide\n",
      "  return (np.exp(H.T)/np.sum(np.exp(H), axis=1)).T\n",
      "C:\\Users\\Younes Abaroudi\\AppData\\Local\\Temp\\ipykernel_23332\\1748412575.py:33: RuntimeWarning: divide by zero encountered in log\n",
      "  return -(1/len(Y))*np.sum(np.sum(Y*np.log(P_hat), axis=1), axis=0)\n"
     ]
    },
    {
     "data": {
      "image/png": "[encoded data removed]",
      "text/plain": [
       "<Figure size 640x480 with 1 Axes>"
      ]
     },
     "metadata": {},
     "output_type": "display_data"
    }
   ],
   "source": [
    "mv_logreg = MVLogisticRegression()\n",
    "mv_logreg.fit(X_train, y_train, epochs=2e4, show_curve=True)"
   ]
  },
  {
   "cell_type": "code",
   "execution_count": 50,
   "metadata": {},
   "outputs": [
    {
     "data": {
      "text/plain": [
       "np.float64(0.58125)"
      ]
     },
     "execution_count": 50,
     "metadata": {},
     "output_type": "execute_result"
    }
   ],
   "source": [
    "y_mvLogistic_predicted = mv_logreg.predict(X_test)\n",
    "mvLogistic_accuracy = accuracy(y_test, y_mvLogistic_predicted)\n",
    "mvLogistic_accuracy"
   ]
  },
  {
   "cell_type": "markdown",
   "metadata": {},
   "source": [
    "### Fine tunning the learning rates and epochs"
   ]
  },
  {
   "cell_type": "code",
   "execution_count": 51,
   "metadata": {},
   "outputs": [
    {
     "name": "stdout",
     "output_type": "stream",
     "text": [
      "Learning rate: 0.0001, Epochs: 1000, Accuracy: 0.68125\n"
     ]
    },
    {
     "name": "stderr",
     "output_type": "stream",
     "text": [
      "C:\\Users\\Younes Abaroudi\\AppData\\Local\\Temp\\ipykernel_23332\\1748412575.py:33: RuntimeWarning: divide by zero encountered in log\n",
      "  return -(1/len(Y))*np.sum(np.sum(Y*np.log(P_hat), axis=1), axis=0)\n"
     ]
    },
    {
     "name": "stdout",
     "output_type": "stream",
     "text": [
      "Learning rate: 0.0001, Epochs: 5000, Accuracy: 0.3625\n"
     ]
    },
    {
     "name": "stderr",
     "output_type": "stream",
     "text": [
      "C:\\Users\\Younes Abaroudi\\AppData\\Local\\Temp\\ipykernel_23332\\1748412575.py:30: RuntimeWarning: overflow encountered in exp\n",
      "  return (np.exp(H.T)/np.sum(np.exp(H), axis=1)).T\n",
      "C:\\Users\\Younes Abaroudi\\AppData\\Local\\Temp\\ipykernel_23332\\1748412575.py:30: RuntimeWarning: invalid value encountered in divide\n",
      "  return (np.exp(H.T)/np.sum(np.exp(H), axis=1)).T\n",
      "C:\\Users\\Younes Abaroudi\\AppData\\Local\\Temp\\ipykernel_23332\\1748412575.py:33: RuntimeWarning: invalid value encountered in multiply\n",
      "  return -(1/len(Y))*np.sum(np.sum(Y*np.log(P_hat), axis=1), axis=0)\n"
     ]
    },
    {
     "name": "stdout",
     "output_type": "stream",
     "text": [
      "Learning rate: 0.0001, Epochs: 20000, Accuracy: 0.58125\n",
      "Learning rate: 0.001, Epochs: 1000, Accuracy: 0.55\n",
      "Learning rate: 0.001, Epochs: 5000, Accuracy: 0.58125\n",
      "Learning rate: 0.001, Epochs: 20000, Accuracy: 0.58125\n",
      "Learning rate: 0.01, Epochs: 1000, Accuracy: 0.58125\n",
      "Learning rate: 0.01, Epochs: 5000, Accuracy: 0.975\n",
      "Learning rate: 0.01, Epochs: 20000, Accuracy: 1.0\n",
      "Learning rate: 100000.0, Epochs: 1000, Accuracy: 0.58125\n",
      "Learning rate: 100000.0, Epochs: 5000, Accuracy: 0.58125\n",
      "Learning rate: 100000.0, Epochs: 20000, Accuracy: 0.58125\n"
     ]
    }
   ],
   "source": [
    "# Example: try different learning rates and epochs\n",
    "learning_rates = [1e-4, 1e-3, 1e-2, 1e5]\n",
    "epochs_list = [1000, 5000, 20000]\n",
    "\n",
    "for eta in learning_rates:\n",
    "    for epochs in epochs_list:\n",
    "        mv_logreg = MVLogisticRegression()\n",
    "        mv_logreg.fit(X_train, y_train, eta=eta, epochs=epochs, show_curve=False)\n",
    "        accuracy_value = np.mean(mv_logreg.predict(X_test) == y_test)\n",
    "        print(f\"Learning rate: {eta}, Epochs: {epochs}, Accuracy: {accuracy_value}\")\n"
   ]
  },
  {
   "cell_type": "markdown",
   "metadata": {},
   "source": [
    "## Fine Tunning and Feature Engineering actions:\n",
    "\n",
    "### Feature engineering [Pclass_1\", \"PClass_2\", \"PClass_3\"] into \"PClass\" feature:\n",
    "- The accuracy difference observed between the two approaches highlights the importance of feature engineering and appropriate handling of categorical variables. When using one-hot encoding for the `Pclass` feature, the model achieved an accuracy of approximately **58%**. This is likely because one-hot encoding treats each passenger class (1st, 2nd, 3rd) as independent features, which may lead to higher dimensionality and a loss of the ordinal relationship between these classes.\n",
    "\n",
    "- After combining the one-hot encoded `Pclass_1`, `Pclass_2`, and `Pclass_3` columns into a **single categorical feature**, the model's accuracy drastically improved to **95.6%**. This suggests that treating `Pclass` as a single feature with ordinal relationships allows the model to better capture the inherent ranking among the classes, leading to a more accurate understanding of how social class influenced survival on the Titanic.\n",
    "\n",
    "### Learning Rate (LR) too Small (0.0001):\n",
    "- For small learning rates, such as **0.0001**, the model's accuracy is relatively low, ranging from **~58% to ~72%** across epochs. In some cases, warnings about log and exp functions are encountered.\n",
    "- With very small learning rates, the model updates weights too slowly, which may explain the lower accuracy observed.\n",
    "- Additionally, **numerical underflow** issues arise when `exp` and `log` functions operate on very small values, leading to invalid calculations.\n",
    "\n",
    "### Optimal Learning Rate (0.001):\n",
    "- With a learning rate of **0.001**, the model achieves significantly better accuracy, reaching **~96.88%** at **20,000 epochs**. This suggests that the learning rate is within a more effective range for your dataset, as the gradient updates are substantial and help the model converge faster.\n",
    "- At **5,000 epochs**, the accuracy is already quite high at **86.25%**, indicating that the model converges well with this learning rate.\n",
    "\n",
    "### Learning Rate (LR) too Large (100000.0):\n",
    "- With very high learning rates, such as **100,000**, the model's accuracy stagnates at **58.12%** across different epochs. Additionally, warnings about invalid values in the log function and overflow in the exponential function are encountered.\n",
    "- This occurs because large learning rates cause the weights to change too drastically, leading to **overshooting** the optimal solution. As a result, the model becomes unstable and unable to properly converge.\n",
    "\n"
   ]
  },
  {
   "cell_type": "markdown",
   "metadata": {},
   "source": [
    "## Applying Shallow ANN"
   ]
  },
  {
   "cell_type": "code",
   "execution_count": 52,
   "metadata": {},
   "outputs": [],
   "source": [
    "def cross_entropy(Y, P_hat):\n",
    "    return - np.sum(Y*np.log(P_hat))"
   ]
  },
  {
   "cell_type": "code",
   "execution_count": 58,
   "metadata": {},
   "outputs": [],
   "source": [
    "class ShallowANN():\n",
    "   \n",
    "    def fit(self, X, y, neurons=6, eta=1e-3, epochs=1e3, show_curve=True):\n",
    "        epochs = int(epochs)\n",
    "        N, D = X.shape\n",
    "        Y = one_hot_encode(y)\n",
    "        K = Y.shape[1]\n",
    " \n",
    "        # Weight Initialization\n",
    "        self.W = {l: np.random.randn(M[0], M[1]) for l, M in enumerate(zip([D, neurons], [neurons, K]), 1)}\n",
    "        self.B = {l: np.random.randn(M) for l, M in enumerate([neurons, K], 1)}\n",
    " \n",
    "        # Define Activations\n",
    "        self.a = {1: np.tanh, 2: softmax}\n",
    " \n",
    "        J = np.zeros(epochs)\n",
    " \n",
    "        # SGD Steps\n",
    "        for epoch in range(epochs):\n",
    "            self.__forward__(X)\n",
    "            J[epoch] = cross_entropy(Y, self.Z[2])\n",
    "           \n",
    "            # Weight Update Rules for output layer (Layer 2)\n",
    "            self.W[2] -= eta * (1/N) * self.Z[1].T @ (self.Z[2] - Y)\n",
    "            self.B[2] -= eta * (1/N) * (self.Z[2] - Y).sum(axis=0)\n",
    "           \n",
    "            # Weight Update Rule for Layer 1\n",
    "            self.W[1] -= eta * (1/N) * X.T @ ((self.Z[2] - Y) @ self.W[2].T * (1 - self.Z[1]**2))\n",
    "            self.B[1] -= eta * (1/N) * ((self.Z[2] - Y) @ self.W[2].T * (1 - self.Z[1]**2)).sum(axis=0)\n",
    " \n",
    "        if show_curve:\n",
    "            plt.figure()\n",
    "            plt.plot(J)\n",
    "            plt.xlabel(\"Epochs\")\n",
    "            plt.ylabel(r\"$\\mathcal{J}$\")\n",
    "            plt.title(\"Training Curve\")\n",
    "            plt.show()\n",
    " \n",
    "    def __forward__(self, X):\n",
    "        self.Z = {0: X}\n",
    "        for l in sorted(self.W.keys()):\n",
    "            self.Z[l] = self.a[l](self.Z[l-1] @ self.W[l] + self.B[l])\n",
    " \n",
    "    def predict(self, X):\n",
    "        self.__forward__(X)\n",
    "        return self.Z[2].argmax(axis=1)  # Fixed 'argnax' to 'argmax'"
   ]
  },
  {
   "cell_type": "code",
   "execution_count": 59,
   "metadata": {},
   "outputs": [
    {
     "data": {
      "image/png": "[encoded data removed]",
      "text/plain": [
       "<Figure size 640x480 with 1 Axes>"
      ]
     },
     "metadata": {},
     "output_type": "display_data"
    }
   ],
   "source": [
    "shallow_ann = ShallowANN()\n",
    "shallow_ann.fit(X_train, y_train, neurons=6, eta=1e-2, epochs=1e4, show_curve=True)\n",
    "# neurons= 3, eta=1e-2, epochs = 3e4, show_curve= True"
   ]
  },
  {
   "cell_type": "code",
   "execution_count": 60,
   "metadata": {},
   "outputs": [],
   "source": [
    "y_shallow_ann =shallow_ann.predict(X_test)"
   ]
  },
  {
   "cell_type": "code",
   "execution_count": 61,
   "metadata": {},
   "outputs": [
    {
     "data": {
      "text/plain": [
       "np.float64(0.99375)"
      ]
     },
     "execution_count": 61,
     "metadata": {},
     "output_type": "execute_result"
    }
   ],
   "source": [
    "shallowANN_accuracy = accuracy(y_test, y_shallow_ann)\n",
    "shallowANN_accuracy"
   ]
  },
  {
   "cell_type": "code",
   "execution_count": 57,
   "metadata": {},
   "outputs": [
    {
     "name": "stdout",
     "output_type": "stream",
     "text": [
      "Training with eta=0.0001, neurons=3, epochs=5000\n",
      "Accuracy: 0.6438\n",
      "\n",
      "Training with eta=0.0001, neurons=3, epochs=10000\n",
      "Accuracy: 0.6875\n",
      "\n",
      "Training with eta=0.0001, neurons=3, epochs=30000\n",
      "Accuracy: 0.5813\n",
      "\n",
      "Training with eta=0.0001, neurons=6, epochs=5000\n",
      "Accuracy: 0.5687\n",
      "\n",
      "Training with eta=0.0001, neurons=6, epochs=10000\n",
      "Accuracy: 0.4125\n",
      "\n",
      "Training with eta=0.0001, neurons=6, epochs=30000\n",
      "Accuracy: 0.6062\n",
      "\n",
      "Training with eta=0.0001, neurons=10, epochs=5000\n",
      "Accuracy: 0.5375\n",
      "\n",
      "Training with eta=0.0001, neurons=10, epochs=10000\n",
      "Accuracy: 0.5625\n",
      "\n",
      "Training with eta=0.0001, neurons=10, epochs=30000\n",
      "Accuracy: 0.7438\n",
      "\n",
      "Training with eta=0.001, neurons=3, epochs=5000\n",
      "Accuracy: 0.6500\n",
      "\n",
      "Training with eta=0.001, neurons=3, epochs=10000\n",
      "Accuracy: 0.6813\n",
      "\n",
      "Training with eta=0.001, neurons=3, epochs=30000\n",
      "Accuracy: 0.6250\n",
      "\n",
      "Training with eta=0.001, neurons=6, epochs=5000\n",
      "Accuracy: 0.6875\n",
      "\n",
      "Training with eta=0.001, neurons=6, epochs=10000\n",
      "Accuracy: 0.6000\n",
      "\n",
      "Training with eta=0.001, neurons=6, epochs=30000\n",
      "Accuracy: 0.7188\n",
      "\n",
      "Training with eta=0.001, neurons=10, epochs=5000\n",
      "Accuracy: 0.6750\n",
      "\n",
      "Training with eta=0.001, neurons=10, epochs=10000\n",
      "Accuracy: 0.6312\n",
      "\n",
      "Training with eta=0.001, neurons=10, epochs=30000\n",
      "Accuracy: 0.6875\n",
      "\n",
      "Training with eta=0.01, neurons=3, epochs=5000\n",
      "Accuracy: 0.6250\n",
      "\n",
      "Training with eta=0.01, neurons=3, epochs=10000\n",
      "Accuracy: 0.6687\n",
      "\n",
      "Training with eta=0.01, neurons=3, epochs=30000\n",
      "Accuracy: 1.0000\n",
      "\n",
      "Training with eta=0.01, neurons=6, epochs=5000\n",
      "Accuracy: 0.7063\n",
      "\n",
      "Training with eta=0.01, neurons=6, epochs=10000\n",
      "Accuracy: 0.6188\n",
      "\n",
      "Training with eta=0.01, neurons=6, epochs=30000\n",
      "Accuracy: 1.0000\n",
      "\n",
      "Training with eta=0.01, neurons=10, epochs=5000\n",
      "Accuracy: 0.6687\n",
      "\n",
      "Training with eta=0.01, neurons=10, epochs=10000\n",
      "Accuracy: 0.7625\n",
      "\n",
      "Training with eta=0.01, neurons=10, epochs=30000\n",
      "Accuracy: 1.0000\n",
      "\n",
      "Best Parameters: eta=0.01, neurons=3, epochs=30000 with accuracy=1.0000\n"
     ]
    }
   ],
   "source": [
    "# Define a function to fine-tune the hyperparameters\n",
    "def fine_tune_shallow_ann(X_train, y_train, X_test, y_test, eta_list, neurons_list, epochs_list):\n",
    "    results = []\n",
    "    \n",
    "    # Grid search over the parameters\n",
    "    for eta in eta_list:\n",
    "        for neurons in neurons_list:\n",
    "            for epochs in epochs_list:\n",
    "                print(f\"Training with eta={eta}, neurons={neurons}, epochs={epochs}\")\n",
    "                \n",
    "                shallow_ann = ShallowANN()\n",
    "                shallow_ann.fit(X_train, y_train, neurons=neurons, eta=eta, epochs=epochs, show_curve=False)\n",
    "                \n",
    "                # Predict on the test set\n",
    "                y_pred = shallow_ann.predict(X_test)\n",
    "                \n",
    "                # Calculate accuracy\n",
    "                acc = np.mean(y_pred == y_test)\n",
    "                print(f\"Accuracy: {acc:.4f}\\n\")\n",
    "                \n",
    "                # Store the results\n",
    "                results.append((eta, neurons, epochs, acc))\n",
    "    \n",
    "    # Find the best combination of hyperparameters\n",
    "    best_params = max(results, key=lambda x: x[3])\n",
    "    print(f\"Best Parameters: eta={best_params[0]}, neurons={best_params[1]}, epochs={best_params[2]} with accuracy={best_params[3]:.4f}\")\n",
    "    \n",
    "    return results\n",
    "\n",
    "# Define ranges for the hyperparameters to try\n",
    "eta_list = [1e-4, 1e-3, 1e-2]  # Learning rates\n",
    "neurons_list = [3, 6, 10]       # Number of neurons in the hidden layer\n",
    "epochs_list = [5000, 10000, 30000]  # Number of epochs\n",
    "\n",
    "# Run the fine-tuning function\n",
    "results = fine_tune_shallow_ann(X_train, y_train, X_test, y_test, eta_list, neurons_list, epochs_list)\n"
   ]
  }
 ],
 "metadata": {
  "kernelspec": {
   "display_name": "Python 3",
   "language": "python",
   "name": "python3"
  },
  "language_info": {
   "codemirror_mode": {
    "name": "ipython",
    "version": 3
   },
   "file_extension": ".py",
   "mimetype": "text/x-python",
   "name": "python",
   "nbconvert_exporter": "python",
   "pygments_lexer": "ipython3",
   "version": "3.12.5"
  }
 },
 "nbformat": 4,
 "nbformat_minor": 2
}
